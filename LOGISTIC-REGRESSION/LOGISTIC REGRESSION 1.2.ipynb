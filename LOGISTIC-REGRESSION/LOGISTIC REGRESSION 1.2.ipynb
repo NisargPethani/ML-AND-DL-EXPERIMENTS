{
 "cells": [
  {
   "cell_type": "markdown",
   "metadata": {},
   "source": [
    "# LOGISTIC REGRESSION"
   ]
  },
  {
   "cell_type": "markdown",
   "metadata": {},
   "source": [
    "## Titanic dataset"
   ]
  },
  {
   "cell_type": "markdown",
   "metadata": {},
   "source": [
    "dataset link : \n",
    "https://iiitaphyd-my.sharepoint.com/:f:/g/personal/apurva_jadhav_students_iiit_ac_in/Eictt5_qmoxNqezgQQiMWeIBph4sxlfA6jWAJNPnV2SF9Q?e=mQmYN0 \n",
    "\n",
    "(titanic.csv)\n"
   ]
  },
  {
   "cell_type": "code",
   "execution_count": 10,
   "metadata": {},
   "outputs": [],
   "source": [
    "# Importing libraries\n",
    "import pandas as pd\n",
    "import numpy as np\n",
    "from sklearn.model_selection import train_test_split\n",
    "from tqdm import tqdm\n",
    "from sklearn.metrics import confusion_matrix\n",
    "from sklearn.metrics import classification_report\n",
    "from scipy import stats\n",
    "\n",
    "from sklearn.model_selection import train_test_split\n",
    "\n",
    "def min_max_normalize(X):\n",
    "    min_val = np.min(X, axis=0)\n",
    "    max_val = np.max(X, axis=0)\n",
    "\n",
    "    d = max_val - min_val\n",
    "\n",
    "    X = X - min_val\n",
    "    X = X / d\n",
    "\n",
    "    return X\n",
    "\n",
    "def separte_features_and_outputs(data, drop_list, label_column, normalize_type=0):\n",
    "    X = data.drop(drop_list, axis=1)\n",
    "    Y = data[label_column]\n",
    "       \n",
    "    return X, Y\n",
    "\n",
    "datra_frame = pd.read_csv(\"titanic.csv\")\n",
    "\n",
    "datra_frame['Embarked'].fillna(datra_frame['Embarked'].mode()[0], inplace=True)\n",
    "datra_frame['Age'].fillna((datra_frame['Age'].mean()), inplace=True)\n",
    "\n",
    "X, y = separte_features_and_outputs(datra_frame, ['Survived', 'PassengerId', 'Name', 'Ticket', 'Cabin'], 'Survived')\n",
    "\n",
    "X['Embarked_S'] = X['Embarked']\n",
    "X['Embarked_S'] = np.where(X['Embarked_S']=='S', 1, 0)\n",
    "X['Embarked_C'] = X['Embarked']\n",
    "X['Embarked_C'] = np.where(X['Embarked_C']=='C', 1, 0)\n",
    "X['Embarked_Q'] = X['Embarked']\n",
    "X['Embarked_Q'] = np.where(X['Embarked_Q']=='Q', 1, 0)\n",
    "\n",
    "X = X.drop(['Embarked'], axis=1)\n",
    "X['Sex'] = np.where(X['Sex']=='male', 1, 0)\n",
    "\n",
    "X = np.array(X)\n",
    "X = min_max_normalize(X)\n",
    "\n",
    "y = np.array(y)"
   ]
  },
  {
   "cell_type": "code",
   "execution_count": 11,
   "metadata": {},
   "outputs": [],
   "source": [
    "X_train, X_test, Y_train, Y_test = train_test_split(X, y, test_size=0.30)"
   ]
  },
  {
   "cell_type": "code",
   "execution_count": 12,
   "metadata": {},
   "outputs": [],
   "source": [
    "class one_vs_one:\n",
    "    def __init__(self, total_features, total_classes, bias=True):\n",
    "        \n",
    "        self.total_features = total_features\n",
    "        self.bias = bias\n",
    "        if self.bias==True:\n",
    "            self.total_features += 1\n",
    "\n",
    "        self.total_classes = total_classes\n",
    "\n",
    "        count = int((self.total_classes * (self.total_classes-1))/2)\n",
    "        self.weights = np.ones(self.total_features*count).reshape((count,self.total_features,1))\n",
    "\n",
    "    def save_weights(self):\n",
    "        file_name = \"weights_ovo.npy\"\n",
    "        with open(file_name, 'wb') as f:\n",
    "            np.save(f, self.weights)\n",
    "    \n",
    "    def load_weights(self):\n",
    "        file_name = \"weights_ovo.npy\"\n",
    "        with open(file_name, 'rb') as f:\n",
    "            self.weights = np.load(f)\n",
    "\n",
    "    def train(self, X_train, Y_train, Transfer_learning=False, epoch=5000, alpha=0.01):\n",
    "\n",
    "        self.epoch = epoch\n",
    "        self.alpha = alpha\n",
    "\n",
    "        if Transfer_learning == True:\n",
    "            self.load_weights()   \n",
    "\n",
    "        # print(\"\\nTrain :: \")\n",
    "\n",
    "        X_train = np.c_[X_train, np.ones(X_train.shape[0])]\n",
    "        total_count = X_test.shape[0]\n",
    "\n",
    "        weight_idx = 0\n",
    "\n",
    "        for i in tqdm(range(self.total_classes)):\n",
    "            for j in range(i+1, self.total_classes):\n",
    "                # print(\"\\n\", i, \"vs\" , j ,\"::\")\n",
    "\n",
    "                new_X_train = [X_train[idx] for idx in range(total_count) if (Y_train[idx] == i or Y_train[idx] == j)]\n",
    "                new_X_train = np.array(new_X_train)\n",
    "                \n",
    "                m = new_X_train.shape[0]\n",
    "\n",
    "                new_Y_train = [Y_train[idx] for idx in range(total_count) if (Y_train[idx] == i or Y_train[idx] == j)]\n",
    "                 \n",
    "                new_Y_train = [1 if new_Y_train[idx] == i else 0 for idx in range(m)]\n",
    "                new_Y_train = np.array(new_Y_train)\n",
    "                new_Y_train = new_Y_train.reshape((-1,1))\n",
    "\n",
    "                # for _ in tqdm(range(self.epoch)):\n",
    "                for _ in range(self.epoch):\n",
    "                    \n",
    "                    xw = np.matmul(new_X_train, self.weights[weight_idx])\n",
    "                    neg_xw = -1 * xw\n",
    "\n",
    "                    hw_xw = 1 / (1 + np.exp(neg_xw))\n",
    "                    dj_dw = np.matmul(new_X_train.T, (hw_xw - new_Y_train))/m\n",
    "                                    \n",
    "                    self.weights[weight_idx] = self.weights[weight_idx] - (self.alpha*dj_dw)  \n",
    "\n",
    "                weight_idx += 1\n",
    "\n",
    "        self.save_weights()        \n",
    "\n",
    "    def test(self, X_test, Y_test):\n",
    "        # print(\"\\nTest :: \")\n",
    "\n",
    "        X_test = np.c_[X_test, np.ones(X_test.shape[0])]\n",
    "        m = X_test.shape[0]\n",
    "\n",
    "        class_pred = []\n",
    "\n",
    "        weight_idx = 0\n",
    "        for i in tqdm(range(self.total_classes)):\n",
    "            for j in range(i+1, self.total_classes):   \n",
    "                \n",
    "                xw = np.matmul(X_test, self.weights[weight_idx])\n",
    "                neg_xw = -1 * xw\n",
    "\n",
    "                hw_xw = 1 / (1 + np.exp(neg_xw))\n",
    "                \n",
    "                onevsone_class_pred = [i if hw_xw[idx]>=0.5 else j for idx in range(m)] \n",
    "                class_pred.append(onevsone_class_pred)\n",
    "\n",
    "                weight_idx += 1\n",
    "\n",
    "        class_pred = np.array(class_pred)        \n",
    "        Y_pred = stats.mode(class_pred)[0][0]\n",
    "\n",
    "        true_count = 0\n",
    "        for i in range(m):\n",
    "            if Y_pred[i] == Y_test[i]:\n",
    "                true_count += 1\n",
    "        \n",
    "        accu = true_count/ m\n",
    "        return accu, confusion_matrix(Y_test, Y_pred), classification_report(Y_test, Y_pred)"
   ]
  },
  {
   "cell_type": "code",
   "execution_count": 13,
   "metadata": {},
   "outputs": [
    {
     "name": "stderr",
     "output_type": "stream",
     "text": [
      "100%|██████████| 2/2 [00:01<00:00,  1.13it/s]\n"
     ]
    }
   ],
   "source": [
    "one_vs_one_obj = one_vs_one(X_train.shape[1], 2)\n",
    "one_vs_one_obj.train(X_train,Y_train, Transfer_learning=False, epoch=50000, alpha=0.01)"
   ]
  },
  {
   "cell_type": "code",
   "execution_count": 14,
   "metadata": {},
   "outputs": [
    {
     "name": "stderr",
     "output_type": "stream",
     "text": [
      "100%|██████████| 2/2 [00:00<00:00, 2326.29it/s]"
     ]
    },
    {
     "name": "stdout",
     "output_type": "stream",
     "text": [
      "\n",
      "Accuracy: 0.7574626865671642\n",
      "\n",
      "classification_report:\n",
      "              precision    recall  f1-score   support\n",
      "\n",
      "           0       0.76      0.83      0.79       151\n",
      "           1       0.75      0.66      0.70       117\n",
      "\n",
      "    accuracy                           0.76       268\n",
      "   macro avg       0.76      0.75      0.75       268\n",
      "weighted avg       0.76      0.76      0.75       268\n",
      "\n",
      "\n",
      "confusion_matrix:\n",
      "[[126  25]\n",
      " [ 40  77]]\n"
     ]
    },
    {
     "name": "stderr",
     "output_type": "stream",
     "text": [
      "\n"
     ]
    }
   ],
   "source": [
    "from sklearn.metrics import confusion_matrix\n",
    "from sklearn.metrics import classification_report\n",
    "\n",
    "accu, confusion_matrix, classification_report = one_vs_one_obj.test(X_test, Y_test)\n",
    "\n",
    "print(\"\\nAccuracy:\", accu)\n",
    "print(\"\\nclassification_report:\")\n",
    "print(classification_report)\n",
    "print(\"\\nconfusion_matrix:\")\n",
    "print(confusion_matrix)"
   ]
  },
  {
   "cell_type": "code",
   "execution_count": null,
   "metadata": {},
   "outputs": [],
   "source": []
  }
 ],
 "metadata": {
  "kernelspec": {
   "display_name": "Python 3",
   "language": "python",
   "name": "python3"
  },
  "language_info": {
   "codemirror_mode": {
    "name": "ipython",
    "version": 3
   },
   "file_extension": ".py",
   "mimetype": "text/x-python",
   "name": "python",
   "nbconvert_exporter": "python",
   "pygments_lexer": "ipython3",
   "version": "3.8.5"
  }
 },
 "nbformat": 4,
 "nbformat_minor": 4
}