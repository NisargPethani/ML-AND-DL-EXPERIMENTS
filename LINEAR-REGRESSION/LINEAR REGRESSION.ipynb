{
 "cells": [
  {
   "cell_type": "markdown",
   "metadata": {
    "id": "nncP5eQd0IXL"
   },
   "source": [
    "# LINEAR REGRESSION\n",
    "\n",
    "Please find the Diamond Price Prediction Data set https://drive.google.com/drive/folders/1qE1tm3Ke3uotTyv6SUqruI09t-AkcwRK?usp=sharing. \"description.txt\" contains the feature description of data, \"diamonds.csv\" has the data."
   ]
  },
  {
   "cell_type": "code",
   "execution_count": 1,
   "metadata": {},
   "outputs": [],
   "source": [
    "import pandas as pd\n",
    "import numpy as np\n",
    "import matplotlib.pyplot as plt\n",
    "\n",
    "from tqdm import tqdm\n",
    "\n",
    "from sklearn import preprocessing\n",
    "from sklearn.model_selection import train_test_split\n",
    "from sklearn.metrics import r2_score\n",
    "\n",
    "from tabulate import tabulate"
   ]
  },
  {
   "cell_type": "code",
   "execution_count": 7,
   "metadata": {
    "id": "1WGPbWa-3JY7"
   },
   "outputs": [],
   "source": [
    "# report a table\n",
    "def cal_MSE(Y_pred, Y_true):\n",
    "    diff = Y_pred - Y_true\n",
    "    abs_diff = np.square(diff)\n",
    "\n",
    "    mean_squre_diff = np.average(abs_diff)\n",
    "    return mean_squre_diff\n",
    "\n",
    "def cal_MAE(Y_pred, Y_true):\n",
    "    diff = Y_pred - Y_true\n",
    "    abs_diff = np.absolute(diff)\n",
    "\n",
    "    mean_abs_diff = np.average(abs_diff)\n",
    "    return mean_abs_diff\n",
    "\n",
    "def cal_R2(Y_pred, Y_true):\n",
    "    r2_score_val = r2_score(Y_true, Y_pred)\n",
    "    return r2_score_val"
   ]
  },
  {
   "cell_type": "markdown",
   "metadata": {
    "id": "DB9Co3225uTa"
   },
   "source": [
    "### Implement a Linear Regression model (from the scratch) taking suitable independent variables from the dataset. \n",
    "\n",
    "Report and Calculate the error obtained.\n"
   ]
  },
  {
   "cell_type": "code",
   "execution_count": 15,
   "metadata": {},
   "outputs": [],
   "source": [
    "# To read data from diamonds.csv\n",
    "headers = [\"carat\",\t\"cut\",\"color\",\"clarity\",\"depth\",\"table\",\"price\",\"x\",\"y\",\"z\"]\n",
    "data = pd.read_csv('diamonds.csv', na_values='?',    \n",
    "         header=None,  names = headers) \n",
    "data = data.reset_index(drop=True)\n",
    "data = data.iloc[1:]\n",
    "\n",
    "label_encoder = preprocessing.LabelEncoder()\n",
    "\n",
    "data['cut']= label_encoder.fit_transform(data['cut'])\n",
    "data['color']= label_encoder.fit_transform(data['color'])\n",
    "data['clarity']= label_encoder.fit_transform(data['clarity'])"
   ]
  },
  {
   "cell_type": "code",
   "execution_count": 16,
   "metadata": {},
   "outputs": [],
   "source": [
    "X, Y = separte_features_and_outputs(data, ['price','cut','color','clarity','depth','table'], normalize_type=1)\n",
    "X_train, X_test, Y_train, Y_test = train_test_split(X, Y, test_size=0.10)"
   ]
  },
  {
   "cell_type": "code",
   "execution_count": 17,
   "metadata": {},
   "outputs": [],
   "source": [
    "def train_linear_regressor(X_train, Y_train, epoch=5000, alpha=0.01):\n",
    "\n",
    "    Y_train = Y_train.reshape((-1,1))\n",
    "    X_train = np.c_[X_train, np.ones(X_train.shape[0])]\n",
    "\n",
    "    weight = np.ones(X_train.shape[1]).reshape((-1,1))\n",
    "\n",
    "    for _ in tqdm(range(epoch)):\n",
    "        prediction = np.matmul(X_train, weight)\n",
    "        prediction = np.subtract(prediction, Y_train)\n",
    "        \n",
    "        prediction = np.matmul(X_train.transpose(), prediction)\n",
    "        weight = weight - ((alpha/X_train.shape[0]) * prediction)  \n",
    "            \n",
    "    return weight\n",
    "\n",
    "def test_linear_regressor(X_test, weights):\n",
    "    X_test_new = np.c_[X_test, np.ones(X_test.shape[0])]\n",
    "\n",
    "    prediction = np.matmul(X_test_new, weights)\n",
    "    return prediction.reshape(-1)"
   ]
  },
  {
   "cell_type": "code",
   "execution_count": 18,
   "metadata": {
    "id": "wsckTq4zzxnx"
   },
   "outputs": [
    {
     "name": "stderr",
     "output_type": "stream",
     "text": [
      "100%|██████████| 5000/5000 [00:00<00:00, 7731.32it/s]\n"
     ]
    }
   ],
   "source": [
    "weights = train_linear_regressor(X_train, Y_train)\n",
    "Y_pred = test_linear_regressor(X_test, weights)"
   ]
  },
  {
   "cell_type": "code",
   "execution_count": 19,
   "metadata": {},
   "outputs": [
    {
     "name": "stdout",
     "output_type": "stream",
     "text": [
      "╒═════════════╤═══════════════╕\n",
      "│ Error Fun   │   Error-value │\n",
      "╞═════════════╪═══════════════╡\n",
      "│ MAE         │ 939.665       │\n",
      "├─────────────┼───────────────┤\n",
      "│ MSE         │   2.50156e+06 │\n",
      "├─────────────┼───────────────┤\n",
      "│ R2          │   0.846985    │\n",
      "╘═════════════╧═══════════════╛\n"
     ]
    }
   ],
   "source": [
    "headr = ['Error Fun', 'Error-value']\n",
    "error = []\n",
    "\n",
    "error.append(['MAE', cal_MAE(Y_pred, Y_test)])\n",
    "error.append(['MSE', cal_MSE(Y_pred, Y_test)])\n",
    "error.append(['R2', cal_R2(Y_pred, Y_test)])\n",
    "\n",
    "print(tabulate(error, headers=headr, tablefmt=\"fancy_grid\"))"
   ]
  },
  {
   "cell_type": "markdown",
   "metadata": {
    "id": "6PUfKXGU6DQ2"
   },
   "source": [
    "### What are the best suitable features you used to predict the price of the dataset and Why?\n",
    "\n",
    "Idea: Use Correlation to get the suitable features and Report the values accordingly."
   ]
  },
  {
   "cell_type": "code",
   "execution_count": 20,
   "metadata": {},
   "outputs": [],
   "source": [
    "# To read data from diamonds.csv\n",
    "headers = [\"carat\",\t\"cut\",\"color\",\"clarity\",\"depth\",\"table\",\"price\",\"x\",\"y\",\"z\"]\n",
    "data = pd.read_csv('diamonds.csv', na_values='?',    \n",
    "         header=None,  names = headers) \n",
    "data = data.reset_index(drop=True)\n",
    "data = data.iloc[1:]\n",
    "\n",
    "label_encoder = preprocessing.LabelEncoder()\n",
    "\n",
    "data['cut']= label_encoder.fit_transform(data['cut'])\n",
    "data['color']= label_encoder.fit_transform(data['color'])\n",
    "data['clarity']= label_encoder.fit_transform(data['clarity'])"
   ]
  },
  {
   "cell_type": "code",
   "execution_count": 21,
   "metadata": {
    "id": "nUVKOe6d6g2u"
   },
   "outputs": [
    {
     "name": "stdout",
     "output_type": "stream",
     "text": [
      "╒═════════╤═════════╤══════════════╕\n",
      "│ Col-1   │ Col-2   │   Corelation │\n",
      "╞═════════╪═════════╪══════════════╡\n",
      "│ carat   │ Price   │    0.921591  │\n",
      "├─────────┼─────────┼──────────────┤\n",
      "│ cut     │ Price   │    0.0398603 │\n",
      "├─────────┼─────────┼──────────────┤\n",
      "│ color   │ Price   │    0.172511  │\n",
      "├─────────┼─────────┼──────────────┤\n",
      "│ clarity │ Price   │   -0.071535  │\n",
      "├─────────┼─────────┼──────────────┤\n",
      "│ depth   │ Price   │   -0.0106474 │\n",
      "├─────────┼─────────┼──────────────┤\n",
      "│ table   │ Price   │    0.127134  │\n",
      "├─────────┼─────────┼──────────────┤\n",
      "│ x       │ Price   │    0.884435  │\n",
      "├─────────┼─────────┼──────────────┤\n",
      "│ y       │ Price   │    0.865421  │\n",
      "├─────────┼─────────┼──────────────┤\n",
      "│ z       │ Price   │    0.861249  │\n",
      "╘═════════╧═════════╧══════════════╛\n"
     ]
    }
   ],
   "source": [
    "#code for Correlation between features and the Diamond Price.\n",
    "from scipy.stats import pearsonr\n",
    "\n",
    "header_list = [\"carat\",\"cut\",\"color\",\"clarity\",\"depth\",\"table\",\"x\",\"y\",\"z\"]\n",
    "Y = data['price'].astype(np.float)\n",
    "\n",
    "co_relation = []\n",
    "for hdr in header_list:\n",
    "    col_data = data[hdr].astype(np.float)\n",
    "\n",
    "    co_rel, _ = pearsonr(col_data, Y)\n",
    "    co_relation.append([hdr, 'Price', co_rel])\n",
    "    \n",
    "headr = ['Col-1', 'Col-2', 'Corelation']\n",
    "print(tabulate(co_relation, headers=headr, tablefmt=\"fancy_grid\"))"
   ]
  },
  {
   "cell_type": "markdown",
   "metadata": {
    "id": "3QB-vCqz6u5z"
   },
   "source": [
    "### Explanation"
   ]
  },
  {
   "cell_type": "markdown",
   "metadata": {},
   "source": [
    "- Correlation simply means a mutual relationship between two or more things\n",
    "\n",
    "- When we have highly correlated features in the dataset\n",
    "    - The diagonal matrix got from Singular Value Decomposition is too small\n",
    "    - And in regression we need to inverse that diagonal matrix(let's say D)\n",
    "    - The inverse of D leads to very large number computation\n",
    "    - cause determinat of D is very high value\n",
    "    \n",
    "- That is why highly correlated features in the dataset is not used"
   ]
  },
  {
   "cell_type": "markdown",
   "metadata": {
    "id": "NNDl68N26yY3"
   },
   "source": [
    "### Use the module Linear Regression from sklearn to predict the price of diamonds(considering the same attributes as before) and compare the result obtained with the above. \n"
   ]
  },
  {
   "cell_type": "code",
   "execution_count": 22,
   "metadata": {
    "id": "50xYhwND64tM"
   },
   "outputs": [
    {
     "name": "stdout",
     "output_type": "stream",
     "text": [
      "scikit-learn KNN Regressor results\n",
      "╒═════════════╤═══════════════╕\n",
      "│ Error Fun   │   Error-value │\n",
      "╞═════════════╪═══════════════╡\n",
      "│ MAE         │ 926.776       │\n",
      "├─────────────┼───────────────┤\n",
      "│ MSE         │   2.50141e+06 │\n",
      "├─────────────┼───────────────┤\n",
      "│ R2          │   0.846995    │\n",
      "╘═════════════╧═══════════════╛\n",
      "\n",
      "\n",
      "My KNN Regressor results\n",
      "╒═════════════╤═══════════════╕\n",
      "│ Error Fun   │   Error-value │\n",
      "╞═════════════╪═══════════════╡\n",
      "│ MAE         │ 939.665       │\n",
      "├─────────────┼───────────────┤\n",
      "│ MSE         │   2.50156e+06 │\n",
      "├─────────────┼───────────────┤\n",
      "│ R2          │   0.846985    │\n",
      "╘═════════════╧═══════════════╛\n"
     ]
    }
   ],
   "source": [
    "# import sklearn model\n",
    "\n",
    "from sklearn.linear_model import LinearRegression\n",
    "\n",
    "linreg = LinearRegression()\n",
    "linreg.fit(X_train, Y_train)\n",
    "\n",
    "Y_pred = linreg.predict(X_test)\n",
    "\n",
    "headr = ['Error Fun', 'Error-value']\n",
    "sk_error = []\n",
    "\n",
    "sk_error.append(['MAE', cal_MAE(Y_pred, Y_test)])\n",
    "sk_error.append(['MSE', cal_MSE(Y_pred, Y_test)])\n",
    "sk_error.append(['R2', cal_R2(Y_pred, Y_test)])\n",
    "\n",
    "print(\"scikit-learn KNN Regressor results\")\n",
    "print(tabulate(sk_error, headers=headr, tablefmt=\"fancy_grid\"))\n",
    "\n",
    "print(\"\\n\\nMy KNN Regressor results\")\n",
    "print(tabulate(error, headers=headr, tablefmt=\"fancy_grid\"))"
   ]
  },
  {
   "cell_type": "markdown",
   "metadata": {
    "id": "121Z4wwx7CLk"
   },
   "source": [
    "### Now, using the whole dataset, predict the price of the Diamonds using the module of Linear Regression from sklearn. Report the changes you have observed compared to before? Adding extra features did it make the prediction better or worse.Comment? \n"
   ]
  },
  {
   "cell_type": "code",
   "execution_count": 23,
   "metadata": {},
   "outputs": [],
   "source": [
    "# To read data from diamonds.csv\n",
    "headers = [\"carat\",\t\"cut\",\"color\",\"clarity\",\"depth\",\"table\",\"price\",\"x\",\"y\",\"z\"]\n",
    "data = pd.read_csv('diamonds.csv', na_values='?',    \n",
    "         header=None,  names = headers) \n",
    "data = data.reset_index(drop=True)\n",
    "data = data.iloc[1:]\n",
    "\n",
    "label_encoder = preprocessing.LabelEncoder()\n",
    "\n",
    "data['cut']= label_encoder.fit_transform(data['cut'])\n",
    "data['color']= label_encoder.fit_transform(data['color'])\n",
    "data['clarity']= label_encoder.fit_transform(data['clarity'])"
   ]
  },
  {
   "cell_type": "code",
   "execution_count": 24,
   "metadata": {
    "id": "Eo1pB2QB7Jqz"
   },
   "outputs": [],
   "source": [
    "X, Y = separte_features_and_outputs(data, ['price'], normalize_type=1)\n",
    "X_train, X_test, Y_train, Y_test = train_test_split(X, Y, test_size=0.10)"
   ]
  },
  {
   "cell_type": "code",
   "execution_count": 25,
   "metadata": {},
   "outputs": [
    {
     "name": "stdout",
     "output_type": "stream",
     "text": [
      "Whole dataset scikit-learn KNN Regressor results\n",
      "╒═════════════╤═══════════════╕\n",
      "│ Error Fun   │   Error-value │\n",
      "╞═════════════╪═══════════════╡\n",
      "│ MAE         │ 866.051       │\n",
      "├─────────────┼───────────────┤\n",
      "│ MSE         │   1.89813e+06 │\n",
      "├─────────────┼───────────────┤\n",
      "│ R2          │   0.880659    │\n",
      "╘═════════════╧═══════════════╛\n",
      "\n",
      "\n",
      "scikit-learn KNN Regressor results\n",
      "╒═════════════╤═══════════════╕\n",
      "│ Error Fun   │   Error-value │\n",
      "╞═════════════╪═══════════════╡\n",
      "│ MAE         │ 926.776       │\n",
      "├─────────────┼───────────────┤\n",
      "│ MSE         │   2.50141e+06 │\n",
      "├─────────────┼───────────────┤\n",
      "│ R2          │   0.846995    │\n",
      "╘═════════════╧═══════════════╛\n"
     ]
    }
   ],
   "source": [
    "linreg = LinearRegression()\n",
    "linreg.fit(X_train, Y_train)\n",
    "\n",
    "Y_pred = linreg.predict(X_test)\n",
    "\n",
    "headr = ['Error Fun', 'Error-value']\n",
    "new_sk_error = []\n",
    "\n",
    "new_sk_error.append(['MAE', cal_MAE(Y_pred, Y_test)])\n",
    "new_sk_error.append(['MSE', cal_MSE(Y_pred, Y_test)])\n",
    "new_sk_error.append(['R2', cal_R2(Y_pred, Y_test)])\n",
    "\n",
    "print(\"Whole dataset scikit-learn KNN Regressor results\")\n",
    "print(tabulate(new_sk_error, headers=headr, tablefmt=\"fancy_grid\"))\n",
    "\n",
    "print(\"\\n\\nscikit-learn KNN Regressor results\")\n",
    "print(tabulate(sk_error, headers=headr, tablefmt=\"fancy_grid\"))"
   ]
  },
  {
   "cell_type": "markdown",
   "metadata": {},
   "source": [
    "- Adding extra features did it make the prediction better or worse.\n",
    "    - In this case : Better\n",
    "    \n",
    "    - Comments:\n",
    "        - R2 score\n",
    "            - Before: Low\n",
    "            - After: Incresed\n",
    "            \n",
    "        - MAE\n",
    "            - Before: High\n",
    "            - After: decresed\n",
    "           \n",
    "        - Changes\n",
    "            - Before: dropes features: ['price','cut','color','clarity','depth','table']\n",
    "            - After: All features is used"
   ]
  },
  {
   "cell_type": "markdown",
   "metadata": {
    "id": "cAqKLuCh7qP5"
   },
   "source": [
    "### Now, compare the algorithms KNN regression and Linear Regression. What are the differences you have observed? Which is better and why. Your statements should be backed up with statistics. \n"
   ]
  },
  {
   "cell_type": "markdown",
   "metadata": {},
   "source": [
    "- KNN is a non -parametric model, whereas LR is a parametric model\n",
    "- KNN is slow while LR is fast when training completes\n",
    "\n",
    "- Which shold be prefered \n",
    "- For larger Dataset\n",
    "    - LR is better \n",
    "        - only one time training is need\n",
    "    - KNN\n",
    "        - Every time it will compute all distances\n",
    "- need of non-linear solutions\n",
    "    - KNN supports non-linear solutions where LR supports only linear solutions."
   ]
  },
  {
   "cell_type": "markdown",
   "metadata": {
    "id": "vdAATTFJ8Lvn"
   },
   "source": [
    "### Plot the predicted values from KNN regression, Linear Regression and Actual Diamond Price.\n"
   ]
  },
  {
   "cell_type": "code",
   "execution_count": 26,
   "metadata": {},
   "outputs": [],
   "source": [
    "# To read data from diamonds.csv\n",
    "headers = [\"carat\",\t\"cut\",\"color\",\"clarity\",\"depth\",\"table\",\"price\",\"x\",\"y\",\"z\"]\n",
    "data = pd.read_csv('diamonds.csv', na_values='?',    \n",
    "         header=None,  names = headers) \n",
    "data = data.reset_index(drop=True)\n",
    "data = data.iloc[1:]\n",
    "\n",
    "label_encoder = preprocessing.LabelEncoder()\n",
    "\n",
    "data['cut']= label_encoder.fit_transform(data['cut'])\n",
    "data['color']= label_encoder.fit_transform(data['color'])\n",
    "data['clarity']= label_encoder.fit_transform(data['clarity'])"
   ]
  },
  {
   "cell_type": "code",
   "execution_count": 27,
   "metadata": {},
   "outputs": [],
   "source": [
    "X, Y = separte_features_and_outputs(data, ['price','cut','color','clarity','depth','table'], normalize_type=1)\n",
    "X_train, X_test, Y_train, Y_test = train_test_split(X, Y, test_size=0.10)"
   ]
  },
  {
   "cell_type": "code",
   "execution_count": 28,
   "metadata": {
    "id": "Wts-tBCC8NiA"
   },
   "outputs": [
    {
     "name": "stderr",
     "output_type": "stream",
     "text": [
      "100%|██████████| 5394/5394 [00:06<00:00, 814.33it/s]\n",
      "100%|██████████| 5000/5000 [00:00<00:00, 6976.31it/s]\n"
     ]
    }
   ],
   "source": [
    "#plot \n",
    "Y_pred_knn_regressor = knn_regressor_euclidean_dis(5, X_train, Y_train, X_test)\n",
    "\n",
    "weights = train_linear_regressor(X_train, Y_train)\n",
    "Y_pred_linear_regressor = test_linear_regressor(X_test, weights)"
   ]
  },
  {
   "cell_type": "code",
   "execution_count": 30,
   "metadata": {},
   "outputs": [
    {
     "data": {
      "text/plain": [
       "Text(0.5, 0, 'Price')"
      ]
     },
     "execution_count": 30,
     "metadata": {},
     "output_type": "execute_result"
    },
    {
     "data": {
      "image/png": "[encoded data removed]",
      "text/plain": [
       "<Figure size 432x288 with 1 Axes>"
      ]
     },
     "metadata": {
      "needs_background": "light"
     },
     "output_type": "display_data"
    }
   ],
   "source": [
    "idx = np.argsort(Y_test)\n",
    "inc_list = list(range(len(Y_test)))\n",
    "\n",
    "Y_test_new = []\n",
    "Y_pred_knn_regressor_new = []\n",
    "Y_pred_linear_regressor_new = []\n",
    "\n",
    "for i in idx:    \n",
    "    Y_test_new.append(Y_test[i])\n",
    "    Y_pred_knn_regressor_new.append(Y_pred_knn_regressor[i])\n",
    "    Y_pred_linear_regressor_new.append(Y_pred_linear_regressor[i])\n",
    "    \n",
    "plt.plot(Y_pred_knn_regressor_new, inc_list, 'yo', markersize=1)\n",
    "plt.plot(Y_pred_linear_regressor_new, inc_list, 'go', markersize=1)\n",
    "plt.plot(Y_test_new, inc_list, 'ro', markersize=1)\n",
    "\n",
    "plt.xlabel('Price') "
   ]
  }
 ],
 "metadata": {
  "colab": {
   "collapsed_sections": [
    "6poNZp96z1gN"
   ],
   "name": "SMAI -Assignment1.ipynb",
   "provenance": []
  },
  "kernelspec": {
   "display_name": "Python 3",
   "language": "python",
   "name": "python3"
  },
  "language_info": {
   "codemirror_mode": {
    "name": "ipython",
    "version": 3
   },
   "file_extension": ".py",
   "mimetype": "text/x-python",
   "name": "python",
   "nbconvert_exporter": "python",
   "pygments_lexer": "ipython3",
   "version": "3.8.5"
  }
 },
 "nbformat": 4,
 "nbformat_minor": 1
}
