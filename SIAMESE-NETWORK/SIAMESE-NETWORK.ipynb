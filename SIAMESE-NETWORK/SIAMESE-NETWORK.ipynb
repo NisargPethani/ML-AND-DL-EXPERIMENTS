{
 "cells": [
  {
   "cell_type": "markdown",
   "metadata": {},
   "source": [
    "### Importing the necessary Libraries"
   ]
  },
  {
   "cell_type": "code",
   "execution_count": 1,
   "metadata": {},
   "outputs": [],
   "source": [
    "import numpy as np\n",
    "import pandas as pd\n",
    "import matplotlib.pyplot as plt\n",
    "import torch as to\n",
    "import torch.nn as nn\n",
    "from torch.utils.data import DataLoader, Dataset\n",
    "\n",
    "from tqdm import tqdm\n",
    "\n",
    "import torch\n",
    "import torchvision\n",
    "\n",
    "from torchvision.datasets import MNIST\n",
    "from torchvision.transforms import ToTensor\n",
    "from torchvision.utils import make_grid\n",
    "from torch.utils.data.dataloader import DataLoader\n",
    "from torch.utils.data import random_split\n",
    "from torch.autograd import Variable\n",
    "\n",
    "import torch.nn.functional as F\n",
    "import torch.optim as optim\n",
    "from torch.optim.lr_scheduler import StepLR, ExponentialLR"
   ]
  },
  {
   "cell_type": "markdown",
   "metadata": {},
   "source": [
    "## Load Dataset"
   ]
  },
  {
   "cell_type": "code",
   "execution_count": 2,
   "metadata": {},
   "outputs": [],
   "source": [
    "dataset = MNIST('data', train=True, download=True, transform=ToTensor())\n",
    "test_dataset = MNIST('data', train=False, transform=ToTensor())"
   ]
  },
  {
   "cell_type": "markdown",
   "metadata": {},
   "source": [
    "### Check Cuda Support"
   ]
  },
  {
   "cell_type": "code",
   "execution_count": 3,
   "metadata": {},
   "outputs": [
    {
     "data": {
      "text/plain": [
       "device(type='cuda', index=0)"
      ]
     },
     "execution_count": 3,
     "metadata": {},
     "output_type": "execute_result"
    }
   ],
   "source": [
    "device = torch.device(\"cuda:0\" if torch.cuda.is_available() else \"cpu\")\n",
    "device"
   ]
  },
  {
   "cell_type": "markdown",
   "metadata": {},
   "source": [
    "### Data Loader support Class"
   ]
  },
  {
   "cell_type": "code",
   "execution_count": 4,
   "metadata": {},
   "outputs": [],
   "source": [
    "def comp( value ):    \n",
    "    return value[0]"
   ]
  },
  {
   "cell_type": "code",
   "execution_count": 5,
   "metadata": {},
   "outputs": [],
   "source": [
    "class SiamDataset(Dataset):\n",
    "    \n",
    "    def __init__(self, input_dataset):\n",
    "        \n",
    "        data = list()\n",
    "        \n",
    "        for i in range(len(input_dataset)):            \n",
    "            data.append( [ [input_dataset[i][1]], input_dataset[i][0].numpy() ] )\n",
    "        \n",
    "        data.sort(key = comp)        \n",
    "        self.len = len(input_dataset)        \n",
    "        self.img = {}\n",
    "        \n",
    "        \n",
    "        for i in data:\n",
    "            \n",
    "            if i[0][0] not in self.img :\n",
    "                self.img[i[0][0]] = list()\n",
    "                self.img[i[0][0]].append(i[1])\n",
    "            \n",
    "            else :\n",
    "                self.img[i[0][0]].append(i[1])       \n",
    "        \n",
    "        pass\n",
    "    \n",
    "    \n",
    "    def __getitem__(self, idx):\n",
    "                \n",
    "        clas = np.random.randint(0,10)\n",
    "            \n",
    "        length = len(self.img[clas])\n",
    "        im1, im2 = np.random.randint(0,length,2)\n",
    "            \n",
    "        img1 = to.tensor(np.reshape(self.img[clas][im1],(1,28,28)), dtype=to.float32)\n",
    "        img2 = to.tensor(np.reshape(self.img[clas][im2],(1,28,28)), dtype=to.float32)\n",
    "        y1 = to.tensor(np.ones(1,dtype=np.float32),dtype=to.float32)\n",
    "                           \n",
    "        len1 = len(self.img[clas])\n",
    "        clas2 = ( clas + np.random.randint(0,9) ) % 9\n",
    "        len2 = len(self.img[clas2])\n",
    "            \n",
    "        im3 = np.random.randint(0,len1)\n",
    "        im4 = np.random.randint(0,len2)\n",
    "            \n",
    "        img3 = to.tensor(np.reshape(self.img[clas][im3],(1,28,28)), dtype=to.float32)\n",
    "        img4 = to.tensor(np.reshape(self.img[clas2][im4],(1,28,28)), dtype=to.float32)\n",
    "        y2 = to.tensor(np.zeros(1,dtype=np.float32),dtype=to.float32)\n",
    "            \n",
    "        return  img1, img2, y1, img3, img4, y2\n",
    "            \n",
    "    def __len__(self):\n",
    "        return 10000\n",
    "            "
   ]
  },
  {
   "cell_type": "markdown",
   "metadata": {},
   "source": [
    "### Get Data Loader"
   ]
  },
  {
   "cell_type": "code",
   "execution_count": 6,
   "metadata": {},
   "outputs": [],
   "source": [
    "siamdset = SiamDataset(dataset)\n",
    "train_dataloader = DataLoader(siamdset, shuffle=True, batch_size= 256)\n",
    "\n",
    "siamdset = SiamDataset(test_dataset)\n",
    "test_dataloader = DataLoader(siamdset, shuffle=True, batch_size= 1)"
   ]
  },
  {
   "cell_type": "code",
   "execution_count": 7,
   "metadata": {},
   "outputs": [
    {
     "data": {
      "text/plain": [
       "(40, 10000)"
      ]
     },
     "execution_count": 7,
     "metadata": {},
     "output_type": "execute_result"
    }
   ],
   "source": [
    "len(train_dataloader), len(test_dataset)"
   ]
  },
  {
   "cell_type": "markdown",
   "metadata": {},
   "source": [
    "### Siamese Network"
   ]
  },
  {
   "cell_type": "code",
   "execution_count": 8,
   "metadata": {},
   "outputs": [],
   "source": [
    "class Siamese(nn.Module):\n",
    "    def __init__(self):\n",
    "        super(Siamese,self).__init__()\n",
    "\n",
    "        self.fc1 = nn.Linear(784, 256)\n",
    "        self.fc2 = nn.Linear(256, 128)\n",
    "        self.fc3 = nn.Linear(128, 64)\n",
    "        self.fc4 = nn.Linear(64, 10)\n",
    "\n",
    "        self.relu = nn.ReLU()\n",
    "        \n",
    "        self.fc = nn.Sequential(\n",
    "            nn.Linear(20, 1),\n",
    "            nn.Sigmoid()\n",
    "        )\n",
    "        \n",
    "    def forward_once(self,x):\n",
    "        \n",
    "        x = self.fc1(x)\n",
    "        x = self.relu(x)\n",
    "        x = self.fc2(x)\n",
    "        x = self.relu(x)\n",
    "        x = self.fc3(x)\n",
    "        x = self.relu(x)\n",
    "        x = self.fc4(x)\n",
    "        \n",
    "        return x\n",
    "    \n",
    "    def forward(self, x, y, flag=False):    \n",
    "                \n",
    "        out1 = self.forward_once(x)\n",
    "        out2 = self.forward_once(y)\n",
    "        \n",
    "        if flag:\n",
    "            out = torch.cat((out1, out2), 1)\n",
    "            out = self.fc(out)\n",
    "            return out\n",
    "        else:       \n",
    "            return out1, out2    "
   ]
  },
  {
   "cell_type": "markdown",
   "metadata": {},
   "source": [
    "### Constructive Loss"
   ]
  },
  {
   "cell_type": "code",
   "execution_count": 9,
   "metadata": {},
   "outputs": [],
   "source": [
    "class ContrastiveLoss(torch.nn.Module):\n",
    "\n",
    "    def __init__(self, margin=2.0):\n",
    "        super(ContrastiveLoss, self).__init__()\n",
    "        self.margin = margin\n",
    "\n",
    "    def forward(self, output1, output2, label):\n",
    "        \n",
    "        euclidean_distance = F.pairwise_distance(output1, output2)\n",
    "        \n",
    "        loss_contrastive = torch.mean((1-label) * torch.pow(euclidean_distance, 2) +\n",
    "        (label) * torch.pow(torch.clamp(self.margin - euclidean_distance, min=0.0), 2))\n",
    "\n",
    "        return loss_contrastive"
   ]
  },
  {
   "cell_type": "code",
   "execution_count": 10,
   "metadata": {},
   "outputs": [],
   "source": [
    "class TripletLoss(torch.nn.Module):\n",
    "\n",
    "    def __init__(self, margin=2.0):\n",
    "        super(ContrastiveLoss, self).__init__()\n",
    "        self.margin = margin\n",
    "\n",
    "    def forward(self, output1, output2, label):\n",
    "        \n",
    "        euclidean_distance = F.pairwise_distance(output1, output2)\n",
    "        \n",
    "        loss_contrastive = torch.mean((1-label) * torch.pow(euclidean_distance, 2) +\n",
    "        (label) * torch.pow(torch.clamp(self.margin - euclidean_distance, min=0.0), 2))\n",
    "\n",
    "        return loss_contrastive"
   ]
  },
  {
   "cell_type": "markdown",
   "metadata": {},
   "source": [
    "### Training Function: ContrastiveLoss "
   ]
  },
  {
   "cell_type": "code",
   "execution_count": 11,
   "metadata": {},
   "outputs": [],
   "source": [
    "def train(model, Criterion, Optimizer, train_lodr, number_epochs=50, weights_path=\"\"):\n",
    "    counter = []\n",
    "    loss_history = [] \n",
    "    iteration_number= 0\n",
    "    \n",
    "    for epoch in tqdm(range(0,number_epochs)):        \n",
    "\n",
    "        ploss = 0 \n",
    "        nloss = 0 \n",
    "        \n",
    "        for data in train_lodr:\n",
    "    \n",
    "            img1, img2 , label1, img3, img4, label2 = Variable(data[0].view(-1, 28*28)).to(device), Variable(data[1].view(-1, 28*28)).to(device), Variable(data[2]).to(device), Variable(data[3].view(-1, 28*28)).to(device), Variable(data[4].view(-1, 28*28)).to(device), Variable(data[5]).to(device)   \n",
    "\n",
    "            \n",
    "            Optimizer.zero_grad()\n",
    "            \n",
    "            output1,output2 = model(img1,img2)\n",
    "            loss_pos = Criterion(output1,output2,label1)\n",
    "            loss_pos.backward()\n",
    "            \n",
    "            Optimizer.step()\n",
    "\n",
    "            Optimizer.zero_grad()\n",
    "            \n",
    "            output3,output4 = model(img3,img4)\n",
    "            loss_neg = Criterion(output3,output4,label2)\n",
    "            loss_neg.backward()\n",
    "            \n",
    "            Optimizer.step()\n",
    "            \n",
    "            ploss += loss_pos.item()\n",
    "            nloss += loss_neg.item()\n",
    "        \n",
    "        counter.append(epoch+1)\n",
    "        loss_history.append(((ploss+nloss)/len(train_lodr)))\n",
    "\n",
    "        to.save(siam.state_dict(), weights_path)\n",
    "\n",
    "    return counter, loss_history"
   ]
  },
  {
   "cell_type": "markdown",
   "metadata": {},
   "source": [
    "### Training Function: TripletLoss "
   ]
  },
  {
   "cell_type": "code",
   "execution_count": 12,
   "metadata": {},
   "outputs": [],
   "source": [
    "def traintriplet(model, Criterion, Optimizer, train_lodr, number_epochs=50, weights_path=\"\"):\n",
    "    counter = []\n",
    "    loss_history = [] \n",
    "    iteration_number= 0\n",
    "    \n",
    "    for epoch in tqdm(range(0,number_epochs)):        \n",
    "\n",
    "        tloss = 0 \n",
    "        \n",
    "        for data in train_lodr:\n",
    "    \n",
    "            img1, img2 , _, img3, img4, _ = Variable(data[0].view(-1, 28*28)).to(device), Variable(data[1].view(-1, 28*28)).to(device), Variable(data[2]).to(device), Variable(data[3].view(-1, 28*28)).to(device), Variable(data[4].view(-1, 28*28)).to(device), Variable(data[5]).to(device)   \n",
    "\n",
    "            \n",
    "            Optimizer.zero_grad()\n",
    "            \n",
    "            output1,output2 = model(img1,img2)\n",
    "            _, output4 = model(img1,img4)\n",
    "            \n",
    "            loss = Criterion(output1, output2, output4)\n",
    "            loss.backward()\n",
    "            \n",
    "            Optimizer.step()\n",
    "            \n",
    "            tloss += loss.item()\n",
    "        \n",
    "        counter.append(epoch+1)\n",
    "        loss_history.append((tloss/len(train_lodr)))\n",
    "        \n",
    "        to.save(siam.state_dict(), weights_path)\n",
    "\n",
    "    return counter, loss_history"
   ]
  },
  {
   "cell_type": "markdown",
   "metadata": {},
   "source": [
    "### Training Function: CrossEntropyLoss "
   ]
  },
  {
   "cell_type": "code",
   "execution_count": 13,
   "metadata": {},
   "outputs": [],
   "source": [
    "def traincrossetropy(model, Criterion, Optimizer, train_lodr, number_epochs=50, weights_path=\"\"):\n",
    "    counter = []\n",
    "    loss_history = [] \n",
    "    iteration_number= 0\n",
    "    \n",
    "    for epoch in tqdm(range(0,number_epochs)):        \n",
    "\n",
    "        ploss = 0 \n",
    "        nloss = 0 \n",
    "        \n",
    "        for data in train_lodr:\n",
    "    \n",
    "            img1, img2 , label1, img3, img4, label2 = Variable(data[0].view(-1, 28*28)).to(device), Variable(data[1].view(-1, 28*28)).to(device), Variable(data[2]).to(device), Variable(data[3].view(-1, 28*28)).to(device), Variable(data[4].view(-1, 28*28)).to(device), Variable(data[5]).to(device)   \n",
    "\n",
    "            \n",
    "            Optimizer.zero_grad()\n",
    "            \n",
    "            output1 = model(img1,img2, flag=True)\n",
    "            loss_pos = Criterion(output1,label1)\n",
    "            loss_pos.backward()\n",
    "            \n",
    "            Optimizer.step()\n",
    "\n",
    "            Optimizer.zero_grad()\n",
    "            \n",
    "            output2 = model(img3,img4, flag=True)\n",
    "            loss_neg = Criterion(output2,label2)\n",
    "            loss_neg.backward()\n",
    "            \n",
    "            Optimizer.step()\n",
    "            \n",
    "            ploss += loss_pos.item()\n",
    "            nloss += loss_neg.item()\n",
    "        \n",
    "        counter.append(epoch+1)\n",
    "        loss_history.append(((ploss+nloss)/len(train_lodr)))\n",
    "\n",
    "        to.save(siam.state_dict(), weights_path)\n",
    "\n",
    "    return counter, loss_history"
   ]
  },
  {
   "cell_type": "markdown",
   "metadata": {},
   "source": [
    "### Testing Funtion"
   ]
  },
  {
   "cell_type": "code",
   "execution_count": 14,
   "metadata": {},
   "outputs": [],
   "source": [
    "def evaluation(model, Criterion, Optimizer, test_lodr, weights_path=\"\"):\n",
    "    \n",
    "    total = 0\n",
    "    correct = 0\n",
    "\n",
    "    model.load_state_dict(torch.load(weights_path))\n",
    "    \n",
    "    def oneshot(model,img1,img2):\n",
    "        with torch.no_grad():\n",
    "            output1,output2 = model(img1,img2)\n",
    "\n",
    "        euclidean_distance = F.pairwise_distance(output1, output2)            \n",
    "        if euclidean_distance > 0.5:\n",
    "            return 1\n",
    "        else:\n",
    "            return 0\n",
    "    \n",
    "    for data in tqdm(test_lodr):\n",
    "\n",
    "        img1, img2 , label1, img3, img4, label2 = Variable(data[0].view(-1, 28*28)).to(device), Variable(data[1].view(-1, 28*28)).to(device), data[2], Variable(data[3].view(-1, 28*28)).to(device), Variable(data[4].view(-1, 28*28)).to(device), data[5]   \n",
    "        \n",
    "        total += 1\n",
    "        if label1[0][0].item() == oneshot(model, img1, img2):\n",
    "            correct += 1\n",
    "        \n",
    "        if label2[0][0].item() == oneshot(model, img3, img4):\n",
    "            correct += 1        \n",
    "\n",
    "    return ((correct/total)*100)"
   ]
  },
  {
   "cell_type": "markdown",
   "metadata": {},
   "source": [
    "### Plot"
   ]
  },
  {
   "cell_type": "code",
   "execution_count": 15,
   "metadata": {},
   "outputs": [],
   "source": [
    "epochs = 15\n",
    "def plotlossgraph(x, y, title=\"\"):\n",
    "    plt.plot(x, y, 'g', label='Training loss')\n",
    "\n",
    "    plt.title(title+' Training loss')\n",
    "    plt.xlabel('Epochs')\n",
    "    plt.ylabel('Loss')\n",
    "\n",
    "    plt.legend()\n",
    "    plt.show()\n",
    "    \n",
    "xepoch = range(1,epochs+1)"
   ]
  },
  {
   "cell_type": "markdown",
   "metadata": {},
   "source": [
    "### Make network Object"
   ]
  },
  {
   "cell_type": "code",
   "execution_count": 16,
   "metadata": {},
   "outputs": [
    {
     "data": {
      "text/plain": [
       "Siamese(\n",
       "  (fc1): Linear(in_features=784, out_features=256, bias=True)\n",
       "  (fc2): Linear(in_features=256, out_features=128, bias=True)\n",
       "  (fc3): Linear(in_features=128, out_features=64, bias=True)\n",
       "  (fc4): Linear(in_features=64, out_features=10, bias=True)\n",
       "  (relu): ReLU()\n",
       "  (fc): Sequential(\n",
       "    (0): Linear(in_features=20, out_features=1, bias=True)\n",
       "    (1): Sigmoid()\n",
       "  )\n",
       ")"
      ]
     },
     "execution_count": 16,
     "metadata": {},
     "output_type": "execute_result"
    }
   ],
   "source": [
    "siam = Siamese().to(device)\n",
    "siam"
   ]
  },
  {
   "cell_type": "markdown",
   "metadata": {},
   "source": [
    "# Hyper Perametes experiment 1"
   ]
  },
  {
   "cell_type": "markdown",
   "metadata": {},
   "source": [
    "## ContrastiveLoss"
   ]
  },
  {
   "cell_type": "markdown",
   "metadata": {},
   "source": [
    "## Question ContrastiveLoss\n",
    "### RMSprop"
   ]
  },
  {
   "cell_type": "markdown",
   "metadata": {},
   "source": [
    "### Defining loss & optimizer Function"
   ]
  },
  {
   "cell_type": "code",
   "execution_count": 17,
   "metadata": {},
   "outputs": [],
   "source": [
    "siam = Siamese().to(device)\n",
    "\n",
    "Criterion = ContrastiveLoss().to(device)\n",
    "Optimizer = optim.RMSprop(siam.parameters(), lr=0.001, momentum=0.9)"
   ]
  },
  {
   "cell_type": "markdown",
   "metadata": {},
   "source": [
    "### Train"
   ]
  },
  {
   "cell_type": "code",
   "execution_count": 18,
   "metadata": {},
   "outputs": [
    {
     "name": "stderr",
     "output_type": "stream",
     "text": [
      "100%|██████████| 15/15 [00:14<00:00,  1.07it/s]\n"
     ]
    }
   ],
   "source": [
    "counter, loss_history = train(siam, Criterion, Optimizer, train_dataloader, number_epochs=epochs, weights_path=\"./RMSprop1_c.pth\")"
   ]
  },
  {
   "cell_type": "code",
   "execution_count": 19,
   "metadata": {},
   "outputs": [
    {
     "name": "stderr",
     "output_type": "stream",
     "text": [
      "100%|██████████| 10000/10000 [00:09<00:00, 1017.53it/s]\n"
     ]
    },
    {
     "data": {
      "text/plain": [
       "98.13"
      ]
     },
     "execution_count": 19,
     "metadata": {},
     "output_type": "execute_result"
    }
   ],
   "source": [
    "acc = evaluation(siam, Criterion, Optimizer, test_dataloader, weights_path=\"./RMSprop1_c.pth\")\n",
    "acc"
   ]
  },
  {
   "cell_type": "markdown",
   "metadata": {},
   "source": [
    "### Graph Plot"
   ]
  },
  {
   "cell_type": "code",
   "execution_count": 20,
   "metadata": {},
   "outputs": [
    {
     "data": {
      "image/png": "[encoded data removed]",
      "text/plain": [
       "<Figure size 432x288 with 1 Axes>"
      ]
     },
     "metadata": {
      "needs_background": "light"
     },
     "output_type": "display_data"
    }
   ],
   "source": [
    "plotlossgraph(counter, loss_history, title=\"RMSprop\")"
   ]
  },
  {
   "cell_type": "markdown",
   "metadata": {},
   "source": [
    "## Question ContrastiveLoss\n",
    "### Adam"
   ]
  },
  {
   "cell_type": "markdown",
   "metadata": {},
   "source": [
    "### Defining loss & optimizer Function"
   ]
  },
  {
   "cell_type": "code",
   "execution_count": 21,
   "metadata": {},
   "outputs": [],
   "source": [
    "siam = Siamese().to(device)\n",
    "\n",
    "Criterion = ContrastiveLoss().to(device)\n",
    "Optimizer = optim.Adam(siam.parameters(), lr=0.001)"
   ]
  },
  {
   "cell_type": "markdown",
   "metadata": {},
   "source": [
    "### Train"
   ]
  },
  {
   "cell_type": "code",
   "execution_count": 22,
   "metadata": {},
   "outputs": [
    {
     "name": "stderr",
     "output_type": "stream",
     "text": [
      "100%|██████████| 15/15 [00:13<00:00,  1.08it/s]\n"
     ]
    }
   ],
   "source": [
    "counter, loss_history = train(siam, Criterion, Optimizer, train_dataloader, number_epochs=epochs, weights_path=\"./Adam1_c.pth\")"
   ]
  },
  {
   "cell_type": "code",
   "execution_count": 23,
   "metadata": {},
   "outputs": [
    {
     "name": "stderr",
     "output_type": "stream",
     "text": [
      "100%|██████████| 10000/10000 [00:09<00:00, 1088.63it/s]\n"
     ]
    },
    {
     "data": {
      "text/plain": [
       "98.98"
      ]
     },
     "execution_count": 23,
     "metadata": {},
     "output_type": "execute_result"
    }
   ],
   "source": [
    "acc = evaluation(siam, Criterion, Optimizer, test_dataloader, weights_path=\"./Adam1_c.pth\")\n",
    "acc"
   ]
  },
  {
   "cell_type": "markdown",
   "metadata": {},
   "source": [
    "### Graph Plot"
   ]
  },
  {
   "cell_type": "code",
   "execution_count": 24,
   "metadata": {},
   "outputs": [
    {
     "data": {
      "image/png": "[encoded data removed]",
      "text/plain": [
       "<Figure size 432x288 with 1 Axes>"
      ]
     },
     "metadata": {
      "needs_background": "light"
     },
     "output_type": "display_data"
    }
   ],
   "source": [
    "plotlossgraph(counter, loss_history, title=\"Adam\")"
   ]
  },
  {
   "cell_type": "markdown",
   "metadata": {},
   "source": [
    "## Question ContrastiveLoss\n",
    "### Mini Batch gradient decent"
   ]
  },
  {
   "cell_type": "markdown",
   "metadata": {},
   "source": [
    "### Defining loss & optimizer Function"
   ]
  },
  {
   "cell_type": "code",
   "execution_count": 25,
   "metadata": {},
   "outputs": [],
   "source": [
    "siam = Siamese().to(device)\n",
    "\n",
    "Criterion = ContrastiveLoss().to(device)\n",
    "Optimizer = optim.SGD(siam.parameters(), lr=0.001, momentum=0.9)"
   ]
  },
  {
   "cell_type": "markdown",
   "metadata": {},
   "source": [
    "### Train"
   ]
  },
  {
   "cell_type": "code",
   "execution_count": 26,
   "metadata": {},
   "outputs": [
    {
     "name": "stderr",
     "output_type": "stream",
     "text": [
      "100%|██████████| 15/15 [00:13<00:00,  1.13it/s]\n"
     ]
    }
   ],
   "source": [
    "counter, loss_history = train(siam, Criterion, Optimizer, train_dataloader, number_epochs=epochs, weights_path=\"./SGD1_c.pth\")"
   ]
  },
  {
   "cell_type": "code",
   "execution_count": 27,
   "metadata": {},
   "outputs": [
    {
     "name": "stderr",
     "output_type": "stream",
     "text": [
      "100%|██████████| 10000/10000 [00:09<00:00, 1106.83it/s]\n"
     ]
    },
    {
     "data": {
      "text/plain": [
       "97.3"
      ]
     },
     "execution_count": 27,
     "metadata": {},
     "output_type": "execute_result"
    }
   ],
   "source": [
    "acc = evaluation(siam, Criterion, Optimizer, test_dataloader, weights_path=\"./SGD1_c.pth\")\n",
    "acc"
   ]
  },
  {
   "cell_type": "markdown",
   "metadata": {},
   "source": [
    "### Graph Plot"
   ]
  },
  {
   "cell_type": "code",
   "execution_count": 28,
   "metadata": {},
   "outputs": [
    {
     "data": {
      "image/png": "[encoded data removed]",
      "text/plain": [
       "<Figure size 432x288 with 1 Axes>"
      ]
     },
     "metadata": {
      "needs_background": "light"
     },
     "output_type": "display_data"
    }
   ],
   "source": [
    "plotlossgraph(counter, loss_history, title=\"SGD\")"
   ]
  },
  {
   "cell_type": "markdown",
   "metadata": {},
   "source": [
    "## TripletMarginLoss"
   ]
  },
  {
   "cell_type": "markdown",
   "metadata": {},
   "source": [
    "## Question TripletMarginLoss\n",
    "### RMSprop"
   ]
  },
  {
   "cell_type": "markdown",
   "metadata": {},
   "source": [
    "### Defining loss & optimizer Function"
   ]
  },
  {
   "cell_type": "code",
   "execution_count": 29,
   "metadata": {},
   "outputs": [],
   "source": [
    "siam = Siamese().to(device)\n",
    "\n",
    "Criterion = nn.TripletMarginLoss(margin=2.0).to(device)\n",
    "Optimizer = optim.RMSprop(siam.parameters(), lr=0.001, momentum=0.9)"
   ]
  },
  {
   "cell_type": "markdown",
   "metadata": {},
   "source": [
    "### Train"
   ]
  },
  {
   "cell_type": "code",
   "execution_count": 30,
   "metadata": {},
   "outputs": [
    {
     "name": "stderr",
     "output_type": "stream",
     "text": [
      "100%|██████████| 15/15 [00:13<00:00,  1.15it/s]\n"
     ]
    }
   ],
   "source": [
    "counter, loss_history = traintriplet(siam, Criterion, Optimizer, train_dataloader, number_epochs=epochs, weights_path=\"./RMSprop1_t.pth\")"
   ]
  },
  {
   "cell_type": "code",
   "execution_count": 31,
   "metadata": {},
   "outputs": [
    {
     "name": "stderr",
     "output_type": "stream",
     "text": [
      "100%|██████████| 10000/10000 [00:09<00:00, 1082.21it/s]\n"
     ]
    },
    {
     "data": {
      "text/plain": [
       "99.1"
      ]
     },
     "execution_count": 31,
     "metadata": {},
     "output_type": "execute_result"
    }
   ],
   "source": [
    "acc = evaluation(siam, Criterion, Optimizer, test_dataloader, weights_path=\"./RMSprop1_t.pth\")\n",
    "acc"
   ]
  },
  {
   "cell_type": "markdown",
   "metadata": {},
   "source": [
    "### Graph Plot"
   ]
  },
  {
   "cell_type": "code",
   "execution_count": 32,
   "metadata": {},
   "outputs": [
    {
     "data": {
      "image/png": "[encoded data removed]",
      "text/plain": [
       "<Figure size 432x288 with 1 Axes>"
      ]
     },
     "metadata": {
      "needs_background": "light"
     },
     "output_type": "display_data"
    }
   ],
   "source": [
    "plotlossgraph(counter, loss_history, title=\"RMSprop\")"
   ]
  },
  {
   "cell_type": "markdown",
   "metadata": {},
   "source": [
    "## Question TripletMarginLoss\n",
    "### Adam"
   ]
  },
  {
   "cell_type": "markdown",
   "metadata": {},
   "source": [
    "### Defining loss & optimizer Function"
   ]
  },
  {
   "cell_type": "code",
   "execution_count": 33,
   "metadata": {},
   "outputs": [],
   "source": [
    "siam = Siamese().to(device)\n",
    "\n",
    "Criterion = nn.TripletMarginLoss(margin=2.0).to(device)\n",
    "Optimizer = optim.Adam(siam.parameters(), lr=0.001)"
   ]
  },
  {
   "cell_type": "markdown",
   "metadata": {},
   "source": [
    "### Train"
   ]
  },
  {
   "cell_type": "code",
   "execution_count": 34,
   "metadata": {},
   "outputs": [
    {
     "name": "stderr",
     "output_type": "stream",
     "text": [
      "100%|██████████| 15/15 [00:13<00:00,  1.11it/s]\n"
     ]
    }
   ],
   "source": [
    "counter, loss_history = traintriplet(siam, Criterion, Optimizer, train_dataloader, number_epochs=epochs, weights_path=\"./Adam1_t.pth\")"
   ]
  },
  {
   "cell_type": "code",
   "execution_count": 35,
   "metadata": {},
   "outputs": [
    {
     "name": "stderr",
     "output_type": "stream",
     "text": [
      "100%|██████████| 10000/10000 [00:09<00:00, 1052.10it/s]\n"
     ]
    },
    {
     "data": {
      "text/plain": [
       "97.54"
      ]
     },
     "execution_count": 35,
     "metadata": {},
     "output_type": "execute_result"
    }
   ],
   "source": [
    "acc = evaluation(siam, Criterion, Optimizer, test_dataloader, weights_path=\"./Adam1_t.pth\")\n",
    "acc"
   ]
  },
  {
   "cell_type": "markdown",
   "metadata": {},
   "source": [
    "### Graph Plot"
   ]
  },
  {
   "cell_type": "code",
   "execution_count": 36,
   "metadata": {},
   "outputs": [
    {
     "data": {
      "image/png": "[encoded data removed]",
      "text/plain": [
       "<Figure size 432x288 with 1 Axes>"
      ]
     },
     "metadata": {
      "needs_background": "light"
     },
     "output_type": "display_data"
    }
   ],
   "source": [
    "plotlossgraph(counter, loss_history, title=\"Adam\")"
   ]
  },
  {
   "cell_type": "markdown",
   "metadata": {},
   "source": [
    "## CrossEntropyLoss"
   ]
  },
  {
   "cell_type": "markdown",
   "metadata": {},
   "source": [
    "## Question CrossEntropyLoss\n",
    "### RMSprop"
   ]
  },
  {
   "cell_type": "markdown",
   "metadata": {},
   "source": [
    "### Defining loss & optimizer Function"
   ]
  },
  {
   "cell_type": "code",
   "execution_count": 37,
   "metadata": {},
   "outputs": [],
   "source": [
    "siam = Siamese().to(device)\n",
    "\n",
    "Criterion = nn.BCELoss().to(device)\n",
    "Optimizer = optim.RMSprop(siam.parameters(), lr=0.001, momentum=0.9)"
   ]
  },
  {
   "cell_type": "markdown",
   "metadata": {},
   "source": [
    "### Train"
   ]
  },
  {
   "cell_type": "code",
   "execution_count": 38,
   "metadata": {},
   "outputs": [
    {
     "name": "stderr",
     "output_type": "stream",
     "text": [
      "100%|██████████| 15/15 [00:14<00:00,  1.05it/s]\n"
     ]
    }
   ],
   "source": [
    "counter, loss_history = traincrossetropy(siam, Criterion, Optimizer, train_dataloader, number_epochs=epochs, weights_path=\"./RMSprop1_e.pth\")"
   ]
  },
  {
   "cell_type": "code",
   "execution_count": 39,
   "metadata": {},
   "outputs": [
    {
     "name": "stderr",
     "output_type": "stream",
     "text": [
      "100%|██████████| 10000/10000 [00:09<00:00, 1052.91it/s]\n"
     ]
    },
    {
     "data": {
      "text/plain": [
       "99.29"
      ]
     },
     "execution_count": 39,
     "metadata": {},
     "output_type": "execute_result"
    }
   ],
   "source": [
    "acc = evaluation(siam, Criterion, Optimizer, test_dataloader, weights_path=\"./RMSprop1_e.pth\")\n",
    "acc"
   ]
  },
  {
   "cell_type": "markdown",
   "metadata": {},
   "source": [
    "### Graph Plot"
   ]
  },
  {
   "cell_type": "code",
   "execution_count": 40,
   "metadata": {},
   "outputs": [
    {
     "data": {
      "image/png": "[encoded data removed]",
      "text/plain": [
       "<Figure size 432x288 with 1 Axes>"
      ]
     },
     "metadata": {
      "needs_background": "light"
     },
     "output_type": "display_data"
    }
   ],
   "source": [
    "plotlossgraph(counter, loss_history, title=\"RMSprop\")"
   ]
  },
  {
   "cell_type": "markdown",
   "metadata": {},
   "source": [
    "## Question CrossEntropyLoss\n",
    "### Adam"
   ]
  },
  {
   "cell_type": "markdown",
   "metadata": {},
   "source": [
    "### Defining loss & optimizer Function"
   ]
  },
  {
   "cell_type": "code",
   "execution_count": 41,
   "metadata": {},
   "outputs": [],
   "source": [
    "siam = Siamese().to(device)\n",
    "\n",
    "Criterion = nn.BCELoss().to(device)\n",
    "Optimizer = optim.Adam(siam.parameters(), lr=0.001)"
   ]
  },
  {
   "cell_type": "markdown",
   "metadata": {},
   "source": [
    "### Train"
   ]
  },
  {
   "cell_type": "code",
   "execution_count": 42,
   "metadata": {},
   "outputs": [
    {
     "name": "stderr",
     "output_type": "stream",
     "text": [
      "100%|██████████| 15/15 [00:14<00:00,  1.07it/s]\n"
     ]
    }
   ],
   "source": [
    "counter, loss_history = traincrossetropy(siam, Criterion, Optimizer, train_dataloader, number_epochs=epochs, weights_path=\"./Adam1_e.pth\")"
   ]
  },
  {
   "cell_type": "code",
   "execution_count": 43,
   "metadata": {},
   "outputs": [
    {
     "name": "stderr",
     "output_type": "stream",
     "text": [
      "100%|██████████| 10000/10000 [00:09<00:00, 1070.78it/s]\n"
     ]
    },
    {
     "data": {
      "text/plain": [
       "99.61"
      ]
     },
     "execution_count": 43,
     "metadata": {},
     "output_type": "execute_result"
    }
   ],
   "source": [
    "acc = evaluation(siam, Criterion, Optimizer, test_dataloader, weights_path=\"./Adam1_e.pth\")\n",
    "acc"
   ]
  },
  {
   "cell_type": "markdown",
   "metadata": {},
   "source": [
    "### Graph Plot"
   ]
  },
  {
   "cell_type": "code",
   "execution_count": 44,
   "metadata": {},
   "outputs": [
    {
     "data": {
      "image/png": "[encoded data removed]",
      "text/plain": [
       "<Figure size 432x288 with 1 Axes>"
      ]
     },
     "metadata": {
      "needs_background": "light"
     },
     "output_type": "display_data"
    }
   ],
   "source": [
    "plotlossgraph(counter, loss_history, title=\"Adam\")"
   ]
  },
  {
   "cell_type": "markdown",
   "metadata": {},
   "source": [
    "## Question CrossEntropyLoss\n",
    "### Mini Batch gradient decent"
   ]
  },
  {
   "cell_type": "markdown",
   "metadata": {},
   "source": [
    "### Defining loss & optimizer Function"
   ]
  },
  {
   "cell_type": "code",
   "execution_count": 45,
   "metadata": {},
   "outputs": [],
   "source": [
    "siam = Siamese().to(device)\n",
    "\n",
    "Criterion = nn.BCELoss().to(device)\n",
    "Optimizer = optim.SGD(siam.parameters(), lr=0.001, momentum=0.9)"
   ]
  },
  {
   "cell_type": "markdown",
   "metadata": {},
   "source": [
    "### Train"
   ]
  },
  {
   "cell_type": "code",
   "execution_count": 46,
   "metadata": {},
   "outputs": [
    {
     "name": "stderr",
     "output_type": "stream",
     "text": [
      "100%|██████████| 15/15 [00:13<00:00,  1.08it/s]\n"
     ]
    }
   ],
   "source": [
    "counter, loss_history = traincrossetropy(siam, Criterion, Optimizer, train_dataloader, number_epochs=epochs, weights_path=\"./SGD1_e.pth\")"
   ]
  },
  {
   "cell_type": "code",
   "execution_count": 49,
   "metadata": {},
   "outputs": [
    {
     "name": "stderr",
     "output_type": "stream",
     "text": [
      "100%|██████████| 10000/10000 [00:09<00:00, 1045.54it/s]\n"
     ]
    },
    {
     "data": {
      "text/plain": [
       "97.22"
      ]
     },
     "execution_count": 49,
     "metadata": {},
     "output_type": "execute_result"
    }
   ],
   "source": [
    "acc = evaluation(siam, Criterion, Optimizer, test_dataloader, weights_path=\"./SGD1_c.pth\")\n",
    "acc"
   ]
  },
  {
   "cell_type": "markdown",
   "metadata": {},
   "source": [
    "### Graph Plot"
   ]
  },
  {
   "cell_type": "code",
   "execution_count": 50,
   "metadata": {},
   "outputs": [
    {
     "data": {
      "image/png": "[encoded data removed]",
      "text/plain": [
       "<Figure size 432x288 with 1 Axes>"
      ]
     },
     "metadata": {
      "needs_background": "light"
     },
     "output_type": "display_data"
    }
   ],
   "source": [
    "plotlossgraph(counter, loss_history, title=\"SGD\")"
   ]
  },
  {
   "cell_type": "markdown",
   "metadata": {},
   "source": [
    "## Mention Pros and Cons of Siamese Networks ."
   ]
  },
  {
   "cell_type": "markdown",
   "metadata": {},
   "source": [
    "### pors\n",
    "\n",
    "- More Robust to class Imbalance\n",
    "    - Because of One-shot learning, few images per class is sufficient for training\n",
    "- Nice to an ensemble with the best classifier\n",
    "    - Given that its learning mechanism is somewhat different from Classification, simple averaging of it with a Classifier can do much better than average 2 correlated Supervised models\n",
    "- Learning from Semantic Similarity\n",
    "    - Siamese focuses on learning embeddings (in the deeper layer) that place the same classes/concepts close together"
   ]
  },
  {
   "cell_type": "markdown",
   "metadata": {},
   "source": [
    "### Cons\n",
    "\n",
    "- Needs more training time than normal networks: \n",
    "    - involves quadratic pairs to learn \n",
    "    - it is slower than normal classification type of learning(pointwise learning)\n",
    "- Doesn’t output probabilities: \n",
    "    - Since training involves pairwise learning, \n",
    "    - it won’t output the probabilities of the prediction, \n",
    "    - distance from each class"
   ]
  },
  {
   "cell_type": "code",
   "execution_count": null,
   "metadata": {},
   "outputs": [],
   "source": []
  }
 ],
 "metadata": {
  "kernelspec": {
   "display_name": "Python 3",
   "language": "python",
   "name": "python3"
  },
  "language_info": {
   "codemirror_mode": {
    "name": "ipython",
    "version": 3
   },
   "file_extension": ".py",
   "mimetype": "text/x-python",
   "name": "python",
   "nbconvert_exporter": "python",
   "pygments_lexer": "ipython3",
   "version": "3.8.5"
  }
 },
 "nbformat": 4,
 "nbformat_minor": 2
}
