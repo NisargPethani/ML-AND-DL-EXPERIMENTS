{
 "cells": [
  {
   "cell_type": "markdown",
   "metadata": {},
   "source": [
    "# Support Vector Machines\n"
   ]
  },
  {
   "cell_type": "code",
   "execution_count": 1,
   "metadata": {},
   "outputs": [],
   "source": [
    "import numpy as np\n",
    "import cvxpy as cp\n",
    "import matplotlib.pyplot as plt"
   ]
  },
  {
   "cell_type": "markdown",
   "metadata": {},
   "source": [
    "### Subsection 1"
   ]
  },
  {
   "cell_type": "code",
   "execution_count": 2,
   "metadata": {},
   "outputs": [],
   "source": [
    "# Feel free to use this helper function to visualize 2D points X with labels +1 or -1\n",
    "def plot_points(X, Y):\n",
    "    reds = []\n",
    "    blues = []\n",
    "    for i in range(Y.shape[0]):\n",
    "        if Y[i] == 1:\n",
    "            reds.append(X[i])\n",
    "        else:\n",
    "            blues.append(X[i])\n",
    "    reds = np.array(reds)\n",
    "    blues = np.array(blues)\n",
    "    plt.scatter(reds[:, 0], reds[:, 1], c = 'r')\n",
    "    plt.scatter(blues[:, 0], blues[:, 1], c = 'b')"
   ]
  },
  {
   "cell_type": "code",
   "execution_count": 3,
   "metadata": {},
   "outputs": [
    {
     "data": {
      "image/png": "[encoded data removed]",
      "text/plain": [
       "<Figure size 432x288 with 1 Axes>"
      ]
     },
     "metadata": {
      "needs_background": "light"
     },
     "output_type": "display_data"
    }
   ],
   "source": [
    "# Create Synthetic Data and visualize the points\n",
    "X = np.array([[-3.5, -1], [-3, 0], [-3, 1], [-2.7, -1.3], [-2, -1], [-2, -2.7], \n",
    "              [-1, -2.5], [0, -3], [-1.1, 0], [0, 2.5], [1, 2], [0.7, 4], \n",
    "              [2.1, 0.2], [2.3, 1], [2.8, 1.8], [2.2, 2.8]])\n",
    "y = np.array([1, 1, 1, 1, 1, 1, 1, 1, -1, -1, -1, -1, -1, -1, -1, -1])\n",
    "\n",
    "plot_points(X, y)\n",
    "plt.show()"
   ]
  },
  {
   "cell_type": "markdown",
   "metadata": {},
   "source": [
    "In the next cell you are required to derive the Quadratic Constrained Quadratic form of SVM **without soft constraints** from the basic principles. Start with the idea that SVM tries to maximize the margin and then derive the form which you can feed to the solver.\n",
    "\n",
    "Please print the values of w, b. \n",
    "\n",
    "**Note: You are also required to upload a page of the derivation. You may also type it in markdown here**"
   ]
  },
  {
   "cell_type": "markdown",
   "metadata": {},
   "source": [
    "<img src=\"1.jpg\">\n",
    "<img src=\"2.jpg\">\n",
    "<img src=\"3.jpg\">"
   ]
  },
  {
   "cell_type": "markdown",
   "metadata": {},
   "source": [
    "**Note: You cannot use sklearn SVM functions here**"
   ]
  },
  {
   "cell_type": "code",
   "execution_count": 4,
   "metadata": {},
   "outputs": [],
   "source": [
    "# Write your code here\n",
    "dimenstions = 2\n",
    "\n",
    "X = X.reshape([-1,dimenstions])\n",
    "y = y.reshape([-1,1])"
   ]
  },
  {
   "cell_type": "code",
   "execution_count": 5,
   "metadata": {},
   "outputs": [],
   "source": [
    "def hard_margin_svm(trainX, trainy):\n",
    "    \n",
    "    total_data_count = trainX.shape[0]\n",
    "\n",
    "    w = cp.Variable((dimenstions,1))\n",
    "    b = cp.Variable()\n",
    "\n",
    "    obj = cp.Minimize((0.5 * (cp.norm(w)**2)))\n",
    "    constraints = [trainy[i] @ (w.T @ trainX[i] + b) >= 1 for i in range(0, total_data_count)]\n",
    "\n",
    "    problem = cp.Problem(obj, constraints)\n",
    "    problem.solve()\n",
    "\n",
    "    w = w.value\n",
    "    b = b.value\n",
    "    \n",
    "    return w, b"
   ]
  },
  {
   "cell_type": "markdown",
   "metadata": {},
   "source": [
    "In the next cell you are required to visualize the boundary predicted by the solver. You may want to revise up on how to plot the a line given w, b. Please plot w vector as well as the margin lines\n",
    "\n",
    "You may want to create a function to plot the line of separation as you would require this frequently in the subsequent parts of the assignment."
   ]
  },
  {
   "cell_type": "code",
   "execution_count": 6,
   "metadata": {},
   "outputs": [],
   "source": [
    "# Write your code here\n",
    "def plot_results(w, b, trainX, trainy, C=-1):\n",
    "    max_x = int(np.max(trainX, axis=0)[0]+1)\n",
    "    min_x = int(np.min(trainX, axis=0)[0]-1)\n",
    "\n",
    "    x_values = np.linspace(min_x, max_x, 20)\n",
    "    \n",
    "    # w0*x + w1*y + b = 0\n",
    "    # y = (-b -w0*x)/w1\n",
    "\n",
    "    plt.plot(x_values, -(b + w[0]*x_values)/w[1], 'm')\n",
    "    plt.plot(x_values, -(b + 1 + w[0]*x_values)/w[1],'g--')\n",
    "    plt.plot(x_values, -(b - 1 + w[0]*x_values)/w[1], 'y--')\n",
    "\n",
    "    if C == -1:\n",
    "        title = \"Hard margin SVM\"\n",
    "    else:\n",
    "        title = \"Soft margin SVM with C=\"+str(C)\n",
    "\n",
    "    plt.title(\"Visulization of points and lines obtained by \"+title)\n",
    "\n",
    "    plot_points(trainX, trainy)\n",
    "    plt.show()"
   ]
  },
  {
   "cell_type": "code",
   "execution_count": 7,
   "metadata": {},
   "outputs": [
    {
     "data": {
      "image/png": "[encoded data removed]",
      "text/plain": [
       "<Figure size 432x288 with 1 Axes>"
      ]
     },
     "metadata": {
      "needs_background": "light"
     },
     "output_type": "display_data"
    }
   ],
   "source": [
    "w, b = hard_margin_svm(X, y)\n",
    "plot_results(w, b, X, y)"
   ]
  },
  {
   "cell_type": "markdown",
   "metadata": {},
   "source": [
    "In the next cell please plot only the support vectors along with the boundary, w vector, and margins. \n",
    "\n",
    "**Note: You are not supposed to hard-code the points here**"
   ]
  },
  {
   "cell_type": "code",
   "execution_count": 8,
   "metadata": {},
   "outputs": [],
   "source": [
    "# Write your code here\n",
    "def plot_results_boundry(w, b, trainX, trainy, C=-1):\n",
    "    max_x = int(np.max(trainX, axis=0)[0]+1)\n",
    "    min_x = int(np.min(trainX, axis=0)[0]-1)\n",
    "\n",
    "    x_values = np.linspace(min_x, max_x, 20)\n",
    "    \n",
    "    # w0*x + w1*y + b = 0\n",
    "    # y = (-b -w0*x)/w1\n",
    "\n",
    "    plt.plot(x_values, -(b + w[0]*x_values)/w[1], 'm')\n",
    "    plt.plot(x_values, -(b + 1 + w[0]*x_values)/w[1],'g--')\n",
    "    plt.plot(x_values, -(b - 1 + w[0]*x_values)/w[1], 'y--')\n",
    "\n",
    "    if C == -1:\n",
    "        title = \"Hard margin SVM\"\n",
    "    else:\n",
    "        title = \"Soft margin SVM with C=\"+str(C)\n",
    "\n",
    "    plt.title(\"Visulization of points and lines obtained by \"+title)\n",
    "\n",
    "    total_data_count = trainX.shape[0]\n",
    "    results = [round(trainy[i] @ (w.T @ trainX[i] + b)) for i in range(0, total_data_count)]\n",
    "        \n",
    "    temp_trainX = []\n",
    "    temp_trainy = []\n",
    "    \n",
    "    for i in range(len(trainX)):\n",
    "        if results[i] == 1:\n",
    "            temp_trainX.append(trainX[i])\n",
    "            temp_trainy.append(trainy[i])\n",
    "        \n",
    "    plot_points(np.array(temp_trainX), np.array(temp_trainy))\n",
    "    plt.show()"
   ]
  },
  {
   "cell_type": "code",
   "execution_count": 9,
   "metadata": {},
   "outputs": [
    {
     "data": {
      "image/png": "[encoded data removed]",
      "text/plain": [
       "<Figure size 432x288 with 1 Axes>"
      ]
     },
     "metadata": {
      "needs_background": "light"
     },
     "output_type": "display_data"
    }
   ],
   "source": [
    "w, b = hard_margin_svm(X, y)\n",
    "plot_results_boundry(w, b, X, y)"
   ]
  },
  {
   "cell_type": "markdown",
   "metadata": {},
   "source": [
    "In the next cell add the following points:\n",
    "* (-4, -10) with label 1\n",
    "* (4, 4) with label -1\n",
    "\n",
    "Is the decision boundary changed after adding the points? Explain your observations theoretically."
   ]
  },
  {
   "cell_type": "code",
   "execution_count": 10,
   "metadata": {},
   "outputs": [
    {
     "data": {
      "image/png": "[encoded data removed]",
      "text/plain": [
       "<Figure size 432x288 with 1 Axes>"
      ]
     },
     "metadata": {
      "needs_background": "light"
     },
     "output_type": "display_data"
    },
    {
     "name": "stdout",
     "output_type": "stream",
     "text": [
      "(18, 2)\n",
      "(18, 1)\n"
     ]
    }
   ],
   "source": [
    "# Re-create the Synthetic Data by adding the points and visualize the points\n",
    "X = np.append(X, [[-4,-10]], axis=0)\n",
    "X = np.append(X, [[4,4]], axis=0)\n",
    "\n",
    "y = np.append(y, [1, -1])\n",
    "\n",
    "dimenstions = 2\n",
    "X = X.reshape([-1,dimenstions])\n",
    "y = y.reshape([-1,1])\n",
    "\n",
    "plot_points(X, y)\n",
    "plt.show()\n",
    "\n",
    "print(X.shape)\n",
    "print(y.shape)"
   ]
  },
  {
   "cell_type": "code",
   "execution_count": 11,
   "metadata": {},
   "outputs": [
    {
     "data": {
      "image/png": "[encoded data removed]",
      "text/plain": [
       "<Figure size 432x288 with 1 Axes>"
      ]
     },
     "metadata": {
      "needs_background": "light"
     },
     "output_type": "display_data"
    }
   ],
   "source": [
    "# Solve for the decision boundary using this modified dataset\n",
    "w, b = hard_margin_svm(X, y)\n",
    "plot_results(w, b, X, y)"
   ]
  },
  {
   "cell_type": "markdown",
   "metadata": {},
   "source": [
    "In the next cell you are required to modify your framing of optimisation problem to incorporate soft constraints also known as slack. Plot the decision boundary, w and margin lines for various values of C: $0.01$, $0.1$, $3$, $10$, $100$.\n",
    "\n",
    "Explain your results theoretically. How does the boundary change with varying values of C? Why?\n",
    "\n",
    "**Note: Use the modified X and y i.e after adding points in previous cell**"
   ]
  },
  {
   "cell_type": "code",
   "execution_count": 12,
   "metadata": {},
   "outputs": [],
   "source": [
    "def soft_margin_svm(trainX, trainy, C):\n",
    "    total_data_count = trainX.shape[0]\n",
    "\n",
    "    w = cp.Variable((dimenstions,1))\n",
    "    b = cp.Variable()\n",
    "\n",
    "    slack = cp.Variable((total_data_count,1))\n",
    "    obj = cp.Minimize( (0.5 * (cp.norm(w)**2)) + C * cp.sum(slack))\n",
    "\n",
    "    original_constraints = [trainy[i] @ (w.T @ trainX[i] + b) >= 1 - slack[i] for i in range(0, total_data_count)]\n",
    "    slack_constraints = [slack[i] >= 0 for i in range(len(trainX))]\n",
    "\n",
    "    constraints = original_constraints + slack_constraints\n",
    "\n",
    "    problem = cp.Problem(obj, constraints)\n",
    "    problem.solve()\n",
    "\n",
    "    w = w.value\n",
    "    b = b.value\n",
    "    \n",
    "    return w, b"
   ]
  },
  {
   "cell_type": "code",
   "execution_count": 13,
   "metadata": {},
   "outputs": [
    {
     "data": {
      "image/png": "[encoded data removed]",
      "text/plain": [
       "<Figure size 432x288 with 1 Axes>"
      ]
     },
     "metadata": {
      "needs_background": "light"
     },
     "output_type": "display_data"
    }
   ],
   "source": [
    "# Write your code here for C= 0.01\n",
    "w, b = soft_margin_svm(X, y, 0.01)\n",
    "plot_results(w, b, X, y, C=0.01)"
   ]
  },
  {
   "cell_type": "code",
   "execution_count": 14,
   "metadata": {},
   "outputs": [
    {
     "data": {
      "image/png": "[encoded data removed]",
      "text/plain": [
       "<Figure size 432x288 with 1 Axes>"
      ]
     },
     "metadata": {
      "needs_background": "light"
     },
     "output_type": "display_data"
    }
   ],
   "source": [
    "# Write your code here for C= 0.1\n",
    "w, b = soft_margin_svm(X, y, 0.1)\n",
    "plot_results(w, b, X, y, C=0.1)"
   ]
  },
  {
   "cell_type": "code",
   "execution_count": 15,
   "metadata": {},
   "outputs": [
    {
     "data": {
      "image/png": "[encoded data removed]",
      "text/plain": [
       "<Figure size 432x288 with 1 Axes>"
      ]
     },
     "metadata": {
      "needs_background": "light"
     },
     "output_type": "display_data"
    }
   ],
   "source": [
    "# Write your code here for C= 3\n",
    "w, b = soft_margin_svm(X, y, 3)\n",
    "plot_results(w, b, X, y, C=3)"
   ]
  },
  {
   "cell_type": "code",
   "execution_count": 16,
   "metadata": {},
   "outputs": [
    {
     "data": {
      "image/png": "[encoded data removed]",
      "text/plain": [
       "<Figure size 432x288 with 1 Axes>"
      ]
     },
     "metadata": {
      "needs_background": "light"
     },
     "output_type": "display_data"
    }
   ],
   "source": [
    "# Write your code here for C= 10\n",
    "w, b = soft_margin_svm(X, y, 10)\n",
    "plot_results(w, b, X, y, C=10)"
   ]
  },
  {
   "cell_type": "code",
   "execution_count": 17,
   "metadata": {},
   "outputs": [
    {
     "data": {
      "image/png": "[encoded data removed]",
      "text/plain": [
       "<Figure size 432x288 with 1 Axes>"
      ]
     },
     "metadata": {
      "needs_background": "light"
     },
     "output_type": "display_data"
    }
   ],
   "source": [
    "# Write your code here for C= 100\n",
    "w, b = soft_margin_svm(X, y, 100)\n",
    "plot_results(w, b, X, y, C=100)"
   ]
  },
  {
   "cell_type": "markdown",
   "metadata": {},
   "source": [
    "Take the case of C = 100 and remove the support vectors. Does the boundary change after the deletion?\n",
    "Explain why? Show your results by appropriate plots?"
   ]
  },
  {
   "cell_type": "code",
   "execution_count": 18,
   "metadata": {},
   "outputs": [
    {
     "data": {
      "image/png": "[encoded data removed]",
      "text/plain": [
       "<Figure size 432x288 with 1 Axes>"
      ]
     },
     "metadata": {
      "needs_background": "light"
     },
     "output_type": "display_data"
    }
   ],
   "source": [
    "# Write your Code here\n",
    "\n",
    "def plot_only_saperation_line(w, b, trainX, trainy, C=-1):\n",
    "    max_x = int(np.max(trainX, axis=0)[0]+1)\n",
    "    min_x = int(np.min(trainX, axis=0)[0]-1)\n",
    "\n",
    "    x_values = np.linspace(min_x, max_x, 20)\n",
    "    \n",
    "    # w0*x + w1*y + b = 0\n",
    "    # y = (-b -w0*x)/w1\n",
    "\n",
    "    plt.plot(x_values, -(b + w[0]*x_values)/w[1], 'm')\n",
    "\n",
    "    if C == -1:\n",
    "        title = \"Hard margin SVM\"\n",
    "    else:\n",
    "        title = \"Soft margin SVM with C=\"+str(C)\n",
    "\n",
    "    plt.title(\"Visulization of points and lines obtained by \"+title)\n",
    "\n",
    "    plot_points(trainX, trainy)\n",
    "    plt.show()\n",
    "    \n",
    "w, b = soft_margin_svm(X, y, 100)\n",
    "plot_only_saperation_line(w, b, X, y, C=100)    "
   ]
  },
  {
   "cell_type": "markdown",
   "metadata": {},
   "source": [
    "### Subsection 2"
   ]
  },
  {
   "cell_type": "code",
   "execution_count": 19,
   "metadata": {},
   "outputs": [],
   "source": [
    "# !pip install python-mnist\n",
    "# !rm -rf samples\n",
    "# !mkdir samples\n",
    "# !wget http://yann.lecun.com/exdb/mnist/train-images-idx3-ubyte.gz -P samples/\n",
    "# !gunzip samples/train-images-idx3-ubyte.gz\n",
    "# !wget http://yann.lecun.com/exdb/mnist/train-labels-idx1-ubyte.gz -P samples/\n",
    "# !gunzip samples/train-labels-idx1-ubyte.gz\n",
    "# !wget http://yann.lecun.com/exdb/mnist/t10k-images-idx3-ubyte.gz -P samples/\n",
    "# !gunzip samples/t10k-images-idx3-ubyte.gz\n",
    "# !wget http://yann.lecun.com/exdb/mnist/t10k-labels-idx1-ubyte.gz -P samples/\n",
    "# !gunzip samples/t10k-labels-idx1-ubyte.gz"
   ]
  },
  {
   "cell_type": "code",
   "execution_count": 20,
   "metadata": {},
   "outputs": [],
   "source": [
    "# Import Relevant Packages\n",
    "from sklearn.svm import SVC\n",
    "import numpy as np\n",
    "from mnist.loader import MNIST"
   ]
  },
  {
   "cell_type": "code",
   "execution_count": 21,
   "metadata": {},
   "outputs": [
    {
     "name": "stdout",
     "output_type": "stream",
     "text": [
      "(18623, 784)\n",
      "(18623,)\n"
     ]
    }
   ],
   "source": [
    "mndata = MNIST('samples')\n",
    "\n",
    "# Load training dataset\n",
    "images, labels = mndata.load_training()\n",
    "l = len(labels)\n",
    "images_train = np.array(images)\n",
    "labels_train = np.array(labels)\n",
    "\n",
    "trainX = []\n",
    "trainy = []\n",
    "\n",
    "for i in range(l):\n",
    "    if labels[i] == 0 or labels[i] == 1 or labels[i] == 2:\n",
    "        trainX.append(images[i])\n",
    "        trainy.append(labels[i])\n",
    "\n",
    "trainX = np.array(trainX)\n",
    "trainy = np.array(trainy)\n",
    "\n",
    "print(trainX.shape)\n",
    "print(trainy.shape)"
   ]
  },
  {
   "cell_type": "code",
   "execution_count": 22,
   "metadata": {},
   "outputs": [
    {
     "name": "stdout",
     "output_type": "stream",
     "text": [
      "(3147, 784)\n",
      "(3147,)\n"
     ]
    }
   ],
   "source": [
    "# Load testing dataset\n",
    "images, labels = mndata.load_testing()\n",
    "l = len(labels)\n",
    "images_test = np.array(images)\n",
    "labels_test = np.array(labels)\n",
    "\n",
    "\n",
    "testX = []\n",
    "testy = []\n",
    "\n",
    "for i in range(l):\n",
    "    if labels[i] == 0 or labels[i] == 1 or labels[i] == 2:\n",
    "        testX.append(images[i])\n",
    "        testy.append(labels[i])\n",
    "\n",
    "testX = np.array(testX)\n",
    "testy = np.array(testy)\n",
    "\n",
    "print(testX.shape)\n",
    "print(testy.shape)"
   ]
  },
  {
   "cell_type": "markdown",
   "metadata": {},
   "source": [
    "- Tweak different parameters like the C Parameter and gamma parameter of the Linear SVM and report the results.\n",
    "- Experiment different kernels for classification and report the results.\n",
    "\n",
    "Report accuracy score, F1-score, Confusion matrix and any other metrics you feel useful."
   ]
  },
  {
   "cell_type": "code",
   "execution_count": 23,
   "metadata": {},
   "outputs": [
    {
     "name": "stdout",
     "output_type": "stream",
     "text": [
      "For\n",
      "C= 100\n",
      "Kernel= poly\n",
      "Gamma= auto\n",
      "\n",
      "Accuracy :  0.9939625039720369\n",
      "confusion_matrix : \n",
      "[[ 976    2    2]\n",
      " [   0 1131    4]\n",
      " [   8    3 1021]]\n",
      "classification_report : \n",
      "              precision    recall  f1-score   support\n",
      "\n",
      "           0       0.99      1.00      0.99       980\n",
      "           1       1.00      1.00      1.00      1135\n",
      "           2       0.99      0.99      0.99      1032\n",
      "\n",
      "    accuracy                           0.99      3147\n",
      "   macro avg       0.99      0.99      0.99      3147\n",
      "weighted avg       0.99      0.99      0.99      3147\n",
      "\n",
      "For\n",
      "C= 100\n",
      "Kernel= poly\n",
      "Gamma= scale\n",
      "\n",
      "Accuracy :  0.9939625039720369\n",
      "confusion_matrix : \n",
      "[[ 976    2    2]\n",
      " [   0 1131    4]\n",
      " [   8    3 1021]]\n",
      "classification_report : \n",
      "              precision    recall  f1-score   support\n",
      "\n",
      "           0       0.99      1.00      0.99       980\n",
      "           1       1.00      1.00      1.00      1135\n",
      "           2       0.99      0.99      0.99      1032\n",
      "\n",
      "    accuracy                           0.99      3147\n",
      "   macro avg       0.99      0.99      0.99      3147\n",
      "weighted avg       0.99      0.99      0.99      3147\n",
      "\n",
      "For\n",
      "C= 100\n",
      "Kernel= sigmoid\n",
      "Gamma= auto\n",
      "\n",
      "Accuracy :  0.3606609469335875\n",
      "confusion_matrix : \n",
      "[[   0  976    4]\n",
      " [   0 1135    0]\n",
      " [   0 1032    0]]\n",
      "classification_report : \n",
      "              precision    recall  f1-score   support\n",
      "\n",
      "           0       0.00      0.00      0.00       980\n",
      "           1       0.36      1.00      0.53      1135\n",
      "           2       0.00      0.00      0.00      1032\n",
      "\n",
      "    accuracy                           0.36      3147\n",
      "   macro avg       0.12      0.33      0.18      3147\n",
      "weighted avg       0.13      0.36      0.19      3147\n",
      "\n"
     ]
    },
    {
     "name": "stderr",
     "output_type": "stream",
     "text": [
      "/home/nisarg/.local/lib/python3.8/site-packages/sklearn/metrics/_classification.py:1245: UndefinedMetricWarning: Precision and F-score are ill-defined and being set to 0.0 in labels with no predicted samples. Use `zero_division` parameter to control this behavior.\n",
      "  _warn_prf(average, modifier, msg_start, len(result))\n",
      "/home/nisarg/.local/lib/python3.8/site-packages/sklearn/metrics/_classification.py:1245: UndefinedMetricWarning: Precision and F-score are ill-defined and being set to 0.0 in labels with no predicted samples. Use `zero_division` parameter to control this behavior.\n",
      "  _warn_prf(average, modifier, msg_start, len(result))\n",
      "/home/nisarg/.local/lib/python3.8/site-packages/sklearn/metrics/_classification.py:1245: UndefinedMetricWarning: Precision and F-score are ill-defined and being set to 0.0 in labels with no predicted samples. Use `zero_division` parameter to control this behavior.\n",
      "  _warn_prf(average, modifier, msg_start, len(result))\n"
     ]
    },
    {
     "name": "stdout",
     "output_type": "stream",
     "text": [
      "For\n",
      "C= 100\n",
      "Kernel= sigmoid\n",
      "Gamma= scale\n",
      "\n",
      "Accuracy :  0.9380362249761678\n",
      "confusion_matrix : \n",
      "[[ 932    1   47]\n",
      " [   1 1092   42]\n",
      " [  55   49  928]]\n",
      "classification_report : \n",
      "              precision    recall  f1-score   support\n",
      "\n",
      "           0       0.94      0.95      0.95       980\n",
      "           1       0.96      0.96      0.96      1135\n",
      "           2       0.91      0.90      0.91      1032\n",
      "\n",
      "    accuracy                           0.94      3147\n",
      "   macro avg       0.94      0.94      0.94      3147\n",
      "weighted avg       0.94      0.94      0.94      3147\n",
      "\n",
      "For\n",
      "C= 100\n",
      "Kernel= rbf\n",
      "Gamma= auto\n",
      "\n",
      "Accuracy :  0.3606609469335875\n",
      "confusion_matrix : \n",
      "[[   0  980    0]\n",
      " [   0 1135    0]\n",
      " [   0 1032    0]]\n",
      "classification_report : \n",
      "              precision    recall  f1-score   support\n",
      "\n",
      "           0       0.00      0.00      0.00       980\n",
      "           1       0.36      1.00      0.53      1135\n",
      "           2       0.00      0.00      0.00      1032\n",
      "\n",
      "    accuracy                           0.36      3147\n",
      "   macro avg       0.12      0.33      0.18      3147\n",
      "weighted avg       0.13      0.36      0.19      3147\n",
      "\n"
     ]
    },
    {
     "name": "stderr",
     "output_type": "stream",
     "text": [
      "/home/nisarg/.local/lib/python3.8/site-packages/sklearn/metrics/_classification.py:1245: UndefinedMetricWarning: Precision and F-score are ill-defined and being set to 0.0 in labels with no predicted samples. Use `zero_division` parameter to control this behavior.\n",
      "  _warn_prf(average, modifier, msg_start, len(result))\n",
      "/home/nisarg/.local/lib/python3.8/site-packages/sklearn/metrics/_classification.py:1245: UndefinedMetricWarning: Precision and F-score are ill-defined and being set to 0.0 in labels with no predicted samples. Use `zero_division` parameter to control this behavior.\n",
      "  _warn_prf(average, modifier, msg_start, len(result))\n",
      "/home/nisarg/.local/lib/python3.8/site-packages/sklearn/metrics/_classification.py:1245: UndefinedMetricWarning: Precision and F-score are ill-defined and being set to 0.0 in labels with no predicted samples. Use `zero_division` parameter to control this behavior.\n",
      "  _warn_prf(average, modifier, msg_start, len(result))\n"
     ]
    },
    {
     "name": "stdout",
     "output_type": "stream",
     "text": [
      "For\n",
      "C= 100\n",
      "Kernel= rbf\n",
      "Gamma= scale\n",
      "\n",
      "Accuracy :  0.9955513187162377\n",
      "confusion_matrix : \n",
      "[[ 977    1    2]\n",
      " [   0 1132    3]\n",
      " [   6    2 1024]]\n",
      "classification_report : \n",
      "              precision    recall  f1-score   support\n",
      "\n",
      "           0       0.99      1.00      1.00       980\n",
      "           1       1.00      1.00      1.00      1135\n",
      "           2       1.00      0.99      0.99      1032\n",
      "\n",
      "    accuracy                           1.00      3147\n",
      "   macro avg       1.00      1.00      1.00      3147\n",
      "weighted avg       1.00      1.00      1.00      3147\n",
      "\n",
      "For\n",
      "C= 100\n",
      "Kernel= linear\n",
      "Gamma= auto\n",
      "\n",
      "Accuracy :  0.9809342230695901\n",
      "confusion_matrix : \n",
      "[[ 971    0    9]\n",
      " [   1 1127    7]\n",
      " [  24   19  989]]\n",
      "classification_report : \n",
      "              precision    recall  f1-score   support\n",
      "\n",
      "           0       0.97      0.99      0.98       980\n",
      "           1       0.98      0.99      0.99      1135\n",
      "           2       0.98      0.96      0.97      1032\n",
      "\n",
      "    accuracy                           0.98      3147\n",
      "   macro avg       0.98      0.98      0.98      3147\n",
      "weighted avg       0.98      0.98      0.98      3147\n",
      "\n",
      "For\n",
      "C= 100\n",
      "Kernel= linear\n",
      "Gamma= scale\n",
      "\n",
      "Accuracy :  0.9809342230695901\n",
      "confusion_matrix : \n",
      "[[ 971    0    9]\n",
      " [   1 1127    7]\n",
      " [  24   19  989]]\n",
      "classification_report : \n",
      "              precision    recall  f1-score   support\n",
      "\n",
      "           0       0.97      0.99      0.98       980\n",
      "           1       0.98      0.99      0.99      1135\n",
      "           2       0.98      0.96      0.97      1032\n",
      "\n",
      "    accuracy                           0.98      3147\n",
      "   macro avg       0.98      0.98      0.98      3147\n",
      "weighted avg       0.98      0.98      0.98      3147\n",
      "\n",
      "For\n",
      "C= 10\n",
      "Kernel= poly\n",
      "Gamma= auto\n",
      "\n",
      "Accuracy :  0.9939625039720369\n",
      "confusion_matrix : \n",
      "[[ 976    2    2]\n",
      " [   0 1131    4]\n",
      " [   8    3 1021]]\n",
      "classification_report : \n",
      "              precision    recall  f1-score   support\n",
      "\n",
      "           0       0.99      1.00      0.99       980\n",
      "           1       1.00      1.00      1.00      1135\n",
      "           2       0.99      0.99      0.99      1032\n",
      "\n",
      "    accuracy                           0.99      3147\n",
      "   macro avg       0.99      0.99      0.99      3147\n",
      "weighted avg       0.99      0.99      0.99      3147\n",
      "\n",
      "For\n",
      "C= 10\n",
      "Kernel= poly\n",
      "Gamma= scale\n",
      "\n",
      "Accuracy :  0.9939625039720369\n",
      "confusion_matrix : \n",
      "[[ 976    1    3]\n",
      " [   0 1131    4]\n",
      " [   8    3 1021]]\n",
      "classification_report : \n",
      "              precision    recall  f1-score   support\n",
      "\n",
      "           0       0.99      1.00      0.99       980\n",
      "           1       1.00      1.00      1.00      1135\n",
      "           2       0.99      0.99      0.99      1032\n",
      "\n",
      "    accuracy                           0.99      3147\n",
      "   macro avg       0.99      0.99      0.99      3147\n",
      "weighted avg       0.99      0.99      0.99      3147\n",
      "\n",
      "For\n",
      "C= 10\n",
      "Kernel= sigmoid\n",
      "Gamma= auto\n",
      "\n",
      "Accuracy :  0.3606609469335875\n",
      "confusion_matrix : \n",
      "[[   0  976    4]\n",
      " [   0 1135    0]\n",
      " [   0 1032    0]]\n",
      "classification_report : \n",
      "              precision    recall  f1-score   support\n",
      "\n",
      "           0       0.00      0.00      0.00       980\n",
      "           1       0.36      1.00      0.53      1135\n",
      "           2       0.00      0.00      0.00      1032\n",
      "\n",
      "    accuracy                           0.36      3147\n",
      "   macro avg       0.12      0.33      0.18      3147\n",
      "weighted avg       0.13      0.36      0.19      3147\n",
      "\n"
     ]
    },
    {
     "name": "stderr",
     "output_type": "stream",
     "text": [
      "/home/nisarg/.local/lib/python3.8/site-packages/sklearn/metrics/_classification.py:1245: UndefinedMetricWarning: Precision and F-score are ill-defined and being set to 0.0 in labels with no predicted samples. Use `zero_division` parameter to control this behavior.\n",
      "  _warn_prf(average, modifier, msg_start, len(result))\n",
      "/home/nisarg/.local/lib/python3.8/site-packages/sklearn/metrics/_classification.py:1245: UndefinedMetricWarning: Precision and F-score are ill-defined and being set to 0.0 in labels with no predicted samples. Use `zero_division` parameter to control this behavior.\n",
      "  _warn_prf(average, modifier, msg_start, len(result))\n",
      "/home/nisarg/.local/lib/python3.8/site-packages/sklearn/metrics/_classification.py:1245: UndefinedMetricWarning: Precision and F-score are ill-defined and being set to 0.0 in labels with no predicted samples. Use `zero_division` parameter to control this behavior.\n",
      "  _warn_prf(average, modifier, msg_start, len(result))\n"
     ]
    },
    {
     "name": "stdout",
     "output_type": "stream",
     "text": [
      "For\n",
      "C= 10\n",
      "Kernel= sigmoid\n",
      "Gamma= scale\n",
      "\n",
      "Accuracy :  0.9380362249761678\n",
      "confusion_matrix : \n",
      "[[ 931    1   48]\n",
      " [   1 1093   41]\n",
      " [  55   49  928]]\n",
      "classification_report : \n",
      "              precision    recall  f1-score   support\n",
      "\n",
      "           0       0.94      0.95      0.95       980\n",
      "           1       0.96      0.96      0.96      1135\n",
      "           2       0.91      0.90      0.91      1032\n",
      "\n",
      "    accuracy                           0.94      3147\n",
      "   macro avg       0.94      0.94      0.94      3147\n",
      "weighted avg       0.94      0.94      0.94      3147\n",
      "\n",
      "For\n",
      "C= 10\n",
      "Kernel= rbf\n",
      "Gamma= auto\n",
      "\n",
      "Accuracy :  0.3606609469335875\n",
      "confusion_matrix : \n",
      "[[   0  980    0]\n",
      " [   0 1135    0]\n",
      " [   0 1032    0]]\n",
      "classification_report : \n",
      "              precision    recall  f1-score   support\n",
      "\n",
      "           0       0.00      0.00      0.00       980\n",
      "           1       0.36      1.00      0.53      1135\n",
      "           2       0.00      0.00      0.00      1032\n",
      "\n",
      "    accuracy                           0.36      3147\n",
      "   macro avg       0.12      0.33      0.18      3147\n",
      "weighted avg       0.13      0.36      0.19      3147\n",
      "\n"
     ]
    },
    {
     "name": "stderr",
     "output_type": "stream",
     "text": [
      "/home/nisarg/.local/lib/python3.8/site-packages/sklearn/metrics/_classification.py:1245: UndefinedMetricWarning: Precision and F-score are ill-defined and being set to 0.0 in labels with no predicted samples. Use `zero_division` parameter to control this behavior.\n",
      "  _warn_prf(average, modifier, msg_start, len(result))\n",
      "/home/nisarg/.local/lib/python3.8/site-packages/sklearn/metrics/_classification.py:1245: UndefinedMetricWarning: Precision and F-score are ill-defined and being set to 0.0 in labels with no predicted samples. Use `zero_division` parameter to control this behavior.\n",
      "  _warn_prf(average, modifier, msg_start, len(result))\n",
      "/home/nisarg/.local/lib/python3.8/site-packages/sklearn/metrics/_classification.py:1245: UndefinedMetricWarning: Precision and F-score are ill-defined and being set to 0.0 in labels with no predicted samples. Use `zero_division` parameter to control this behavior.\n",
      "  _warn_prf(average, modifier, msg_start, len(result))\n"
     ]
    },
    {
     "name": "stdout",
     "output_type": "stream",
     "text": [
      "For\n",
      "C= 10\n",
      "Kernel= rbf\n",
      "Gamma= scale\n",
      "\n",
      "Accuracy :  0.9955513187162377\n",
      "confusion_matrix : \n",
      "[[ 977    1    2]\n",
      " [   0 1132    3]\n",
      " [   6    2 1024]]\n",
      "classification_report : \n",
      "              precision    recall  f1-score   support\n",
      "\n",
      "           0       0.99      1.00      1.00       980\n",
      "           1       1.00      1.00      1.00      1135\n",
      "           2       1.00      0.99      0.99      1032\n",
      "\n",
      "    accuracy                           1.00      3147\n",
      "   macro avg       1.00      1.00      1.00      3147\n",
      "weighted avg       1.00      1.00      1.00      3147\n",
      "\n",
      "For\n",
      "C= 10\n",
      "Kernel= linear\n",
      "Gamma= auto\n",
      "\n",
      "Accuracy :  0.9809342230695901\n",
      "confusion_matrix : \n",
      "[[ 971    0    9]\n",
      " [   1 1127    7]\n",
      " [  24   19  989]]\n",
      "classification_report : \n",
      "              precision    recall  f1-score   support\n",
      "\n",
      "           0       0.97      0.99      0.98       980\n",
      "           1       0.98      0.99      0.99      1135\n",
      "           2       0.98      0.96      0.97      1032\n",
      "\n",
      "    accuracy                           0.98      3147\n",
      "   macro avg       0.98      0.98      0.98      3147\n",
      "weighted avg       0.98      0.98      0.98      3147\n",
      "\n",
      "For\n",
      "C= 10\n",
      "Kernel= linear\n",
      "Gamma= scale\n",
      "\n",
      "Accuracy :  0.9809342230695901\n",
      "confusion_matrix : \n",
      "[[ 971    0    9]\n",
      " [   1 1127    7]\n",
      " [  24   19  989]]\n",
      "classification_report : \n",
      "              precision    recall  f1-score   support\n",
      "\n",
      "           0       0.97      0.99      0.98       980\n",
      "           1       0.98      0.99      0.99      1135\n",
      "           2       0.98      0.96      0.97      1032\n",
      "\n",
      "    accuracy                           0.98      3147\n",
      "   macro avg       0.98      0.98      0.98      3147\n",
      "weighted avg       0.98      0.98      0.98      3147\n",
      "\n",
      "For\n",
      "C= 3\n",
      "Kernel= poly\n",
      "Gamma= auto\n",
      "\n",
      "Accuracy :  0.9939625039720369\n",
      "confusion_matrix : \n",
      "[[ 976    2    2]\n",
      " [   0 1131    4]\n",
      " [   8    3 1021]]\n",
      "classification_report : \n",
      "              precision    recall  f1-score   support\n",
      "\n",
      "           0       0.99      1.00      0.99       980\n",
      "           1       1.00      1.00      1.00      1135\n",
      "           2       0.99      0.99      0.99      1032\n",
      "\n",
      "    accuracy                           0.99      3147\n",
      "   macro avg       0.99      0.99      0.99      3147\n",
      "weighted avg       0.99      0.99      0.99      3147\n",
      "\n",
      "For\n",
      "C= 3\n",
      "Kernel= poly\n",
      "Gamma= scale\n",
      "\n",
      "Accuracy :  0.9945980298697172\n",
      "confusion_matrix : \n",
      "[[ 976    2    2]\n",
      " [   0 1132    3]\n",
      " [   7    3 1022]]\n",
      "classification_report : \n",
      "              precision    recall  f1-score   support\n",
      "\n",
      "           0       0.99      1.00      0.99       980\n",
      "           1       1.00      1.00      1.00      1135\n",
      "           2       1.00      0.99      0.99      1032\n",
      "\n",
      "    accuracy                           0.99      3147\n",
      "   macro avg       0.99      0.99      0.99      3147\n",
      "weighted avg       0.99      0.99      0.99      3147\n",
      "\n",
      "For\n",
      "C= 3\n",
      "Kernel= sigmoid\n",
      "Gamma= auto\n",
      "\n",
      "Accuracy :  0.3606609469335875\n",
      "confusion_matrix : \n",
      "[[   0  978    2]\n",
      " [   0 1135    0]\n",
      " [   0 1032    0]]\n",
      "classification_report : \n",
      "              precision    recall  f1-score   support\n",
      "\n",
      "           0       0.00      0.00      0.00       980\n",
      "           1       0.36      1.00      0.53      1135\n",
      "           2       0.00      0.00      0.00      1032\n",
      "\n",
      "    accuracy                           0.36      3147\n",
      "   macro avg       0.12      0.33      0.18      3147\n",
      "weighted avg       0.13      0.36      0.19      3147\n",
      "\n"
     ]
    },
    {
     "name": "stderr",
     "output_type": "stream",
     "text": [
      "/home/nisarg/.local/lib/python3.8/site-packages/sklearn/metrics/_classification.py:1245: UndefinedMetricWarning: Precision and F-score are ill-defined and being set to 0.0 in labels with no predicted samples. Use `zero_division` parameter to control this behavior.\n",
      "  _warn_prf(average, modifier, msg_start, len(result))\n",
      "/home/nisarg/.local/lib/python3.8/site-packages/sklearn/metrics/_classification.py:1245: UndefinedMetricWarning: Precision and F-score are ill-defined and being set to 0.0 in labels with no predicted samples. Use `zero_division` parameter to control this behavior.\n",
      "  _warn_prf(average, modifier, msg_start, len(result))\n",
      "/home/nisarg/.local/lib/python3.8/site-packages/sklearn/metrics/_classification.py:1245: UndefinedMetricWarning: Precision and F-score are ill-defined and being set to 0.0 in labels with no predicted samples. Use `zero_division` parameter to control this behavior.\n",
      "  _warn_prf(average, modifier, msg_start, len(result))\n"
     ]
    },
    {
     "name": "stdout",
     "output_type": "stream",
     "text": [
      "For\n",
      "C= 3\n",
      "Kernel= sigmoid\n",
      "Gamma= scale\n",
      "\n",
      "Accuracy :  0.9424849062599301\n",
      "confusion_matrix : \n",
      "[[ 936    1   43]\n",
      " [   1 1098   36]\n",
      " [  54   46  932]]\n",
      "classification_report : \n",
      "              precision    recall  f1-score   support\n",
      "\n",
      "           0       0.94      0.96      0.95       980\n",
      "           1       0.96      0.97      0.96      1135\n",
      "           2       0.92      0.90      0.91      1032\n",
      "\n",
      "    accuracy                           0.94      3147\n",
      "   macro avg       0.94      0.94      0.94      3147\n",
      "weighted avg       0.94      0.94      0.94      3147\n",
      "\n",
      "For\n",
      "C= 3\n",
      "Kernel= rbf\n",
      "Gamma= auto\n",
      "\n",
      "Accuracy :  0.3606609469335875\n",
      "confusion_matrix : \n",
      "[[   0  980    0]\n",
      " [   0 1135    0]\n",
      " [   0 1032    0]]\n",
      "classification_report : \n",
      "              precision    recall  f1-score   support\n",
      "\n",
      "           0       0.00      0.00      0.00       980\n",
      "           1       0.36      1.00      0.53      1135\n",
      "           2       0.00      0.00      0.00      1032\n",
      "\n",
      "    accuracy                           0.36      3147\n",
      "   macro avg       0.12      0.33      0.18      3147\n",
      "weighted avg       0.13      0.36      0.19      3147\n",
      "\n"
     ]
    },
    {
     "name": "stderr",
     "output_type": "stream",
     "text": [
      "/home/nisarg/.local/lib/python3.8/site-packages/sklearn/metrics/_classification.py:1245: UndefinedMetricWarning: Precision and F-score are ill-defined and being set to 0.0 in labels with no predicted samples. Use `zero_division` parameter to control this behavior.\n",
      "  _warn_prf(average, modifier, msg_start, len(result))\n",
      "/home/nisarg/.local/lib/python3.8/site-packages/sklearn/metrics/_classification.py:1245: UndefinedMetricWarning: Precision and F-score are ill-defined and being set to 0.0 in labels with no predicted samples. Use `zero_division` parameter to control this behavior.\n",
      "  _warn_prf(average, modifier, msg_start, len(result))\n",
      "/home/nisarg/.local/lib/python3.8/site-packages/sklearn/metrics/_classification.py:1245: UndefinedMetricWarning: Precision and F-score are ill-defined and being set to 0.0 in labels with no predicted samples. Use `zero_division` parameter to control this behavior.\n",
      "  _warn_prf(average, modifier, msg_start, len(result))\n"
     ]
    },
    {
     "name": "stdout",
     "output_type": "stream",
     "text": [
      "For\n",
      "C= 3\n",
      "Kernel= rbf\n",
      "Gamma= scale\n",
      "\n",
      "Accuracy :  0.9949157928185574\n",
      "confusion_matrix : \n",
      "[[ 977    1    2]\n",
      " [   0 1131    4]\n",
      " [   7    2 1023]]\n",
      "classification_report : \n",
      "              precision    recall  f1-score   support\n",
      "\n",
      "           0       0.99      1.00      0.99       980\n",
      "           1       1.00      1.00      1.00      1135\n",
      "           2       0.99      0.99      0.99      1032\n",
      "\n",
      "    accuracy                           0.99      3147\n",
      "   macro avg       0.99      0.99      0.99      3147\n",
      "weighted avg       0.99      0.99      0.99      3147\n",
      "\n",
      "For\n",
      "C= 3\n",
      "Kernel= linear\n",
      "Gamma= auto\n",
      "\n",
      "Accuracy :  0.9809342230695901\n",
      "confusion_matrix : \n",
      "[[ 971    0    9]\n",
      " [   1 1127    7]\n",
      " [  24   19  989]]\n",
      "classification_report : \n",
      "              precision    recall  f1-score   support\n",
      "\n",
      "           0       0.97      0.99      0.98       980\n",
      "           1       0.98      0.99      0.99      1135\n",
      "           2       0.98      0.96      0.97      1032\n",
      "\n",
      "    accuracy                           0.98      3147\n",
      "   macro avg       0.98      0.98      0.98      3147\n",
      "weighted avg       0.98      0.98      0.98      3147\n",
      "\n",
      "For\n",
      "C= 3\n",
      "Kernel= linear\n",
      "Gamma= scale\n",
      "\n",
      "Accuracy :  0.9809342230695901\n",
      "confusion_matrix : \n",
      "[[ 971    0    9]\n",
      " [   1 1127    7]\n",
      " [  24   19  989]]\n",
      "classification_report : \n",
      "              precision    recall  f1-score   support\n",
      "\n",
      "           0       0.97      0.99      0.98       980\n",
      "           1       0.98      0.99      0.99      1135\n",
      "           2       0.98      0.96      0.97      1032\n",
      "\n",
      "    accuracy                           0.98      3147\n",
      "   macro avg       0.98      0.98      0.98      3147\n",
      "weighted avg       0.98      0.98      0.98      3147\n",
      "\n",
      "For\n",
      "C= 0.1\n",
      "Kernel= poly\n",
      "Gamma= auto\n",
      "\n",
      "Accuracy :  0.9939625039720369\n",
      "confusion_matrix : \n",
      "[[ 976    2    2]\n",
      " [   0 1131    4]\n",
      " [   8    3 1021]]\n",
      "classification_report : \n",
      "              precision    recall  f1-score   support\n",
      "\n",
      "           0       0.99      1.00      0.99       980\n",
      "           1       1.00      1.00      1.00      1135\n",
      "           2       0.99      0.99      0.99      1032\n",
      "\n",
      "    accuracy                           0.99      3147\n",
      "   macro avg       0.99      0.99      0.99      3147\n",
      "weighted avg       0.99      0.99      0.99      3147\n",
      "\n",
      "For\n",
      "C= 0.1\n",
      "Kernel= poly\n",
      "Gamma= scale\n",
      "\n",
      "Accuracy :  0.9860184302510328\n",
      "confusion_matrix : \n",
      "[[ 968    8    4]\n",
      " [   0 1131    4]\n",
      " [   8   20 1004]]\n",
      "classification_report : \n",
      "              precision    recall  f1-score   support\n",
      "\n",
      "           0       0.99      0.99      0.99       980\n",
      "           1       0.98      1.00      0.99      1135\n",
      "           2       0.99      0.97      0.98      1032\n",
      "\n",
      "    accuracy                           0.99      3147\n",
      "   macro avg       0.99      0.99      0.99      3147\n",
      "weighted avg       0.99      0.99      0.99      3147\n",
      "\n",
      "For\n",
      "C= 0.1\n",
      "Kernel= sigmoid\n",
      "Gamma= auto\n",
      "\n",
      "Accuracy :  0.3606609469335875\n",
      "confusion_matrix : \n",
      "[[   0  980    0]\n",
      " [   0 1135    0]\n",
      " [   0 1032    0]]\n",
      "classification_report : \n",
      "              precision    recall  f1-score   support\n",
      "\n",
      "           0       0.00      0.00      0.00       980\n",
      "           1       0.36      1.00      0.53      1135\n",
      "           2       0.00      0.00      0.00      1032\n",
      "\n",
      "    accuracy                           0.36      3147\n",
      "   macro avg       0.12      0.33      0.18      3147\n",
      "weighted avg       0.13      0.36      0.19      3147\n",
      "\n"
     ]
    },
    {
     "name": "stderr",
     "output_type": "stream",
     "text": [
      "/home/nisarg/.local/lib/python3.8/site-packages/sklearn/metrics/_classification.py:1245: UndefinedMetricWarning: Precision and F-score are ill-defined and being set to 0.0 in labels with no predicted samples. Use `zero_division` parameter to control this behavior.\n",
      "  _warn_prf(average, modifier, msg_start, len(result))\n",
      "/home/nisarg/.local/lib/python3.8/site-packages/sklearn/metrics/_classification.py:1245: UndefinedMetricWarning: Precision and F-score are ill-defined and being set to 0.0 in labels with no predicted samples. Use `zero_division` parameter to control this behavior.\n",
      "  _warn_prf(average, modifier, msg_start, len(result))\n",
      "/home/nisarg/.local/lib/python3.8/site-packages/sklearn/metrics/_classification.py:1245: UndefinedMetricWarning: Precision and F-score are ill-defined and being set to 0.0 in labels with no predicted samples. Use `zero_division` parameter to control this behavior.\n",
      "  _warn_prf(average, modifier, msg_start, len(result))\n"
     ]
    },
    {
     "name": "stdout",
     "output_type": "stream",
     "text": [
      "For\n",
      "C= 0.1\n",
      "Kernel= sigmoid\n",
      "Gamma= scale\n",
      "\n",
      "Accuracy :  0.9571020019065777\n",
      "confusion_matrix : \n",
      "[[ 925    2   53]\n",
      " [   1 1122   12]\n",
      " [  55   12  965]]\n",
      "classification_report : \n",
      "              precision    recall  f1-score   support\n",
      "\n",
      "           0       0.94      0.94      0.94       980\n",
      "           1       0.99      0.99      0.99      1135\n",
      "           2       0.94      0.94      0.94      1032\n",
      "\n",
      "    accuracy                           0.96      3147\n",
      "   macro avg       0.96      0.96      0.96      3147\n",
      "weighted avg       0.96      0.96      0.96      3147\n",
      "\n",
      "For\n",
      "C= 0.1\n",
      "Kernel= rbf\n",
      "Gamma= auto\n",
      "\n",
      "Accuracy :  0.3606609469335875\n",
      "confusion_matrix : \n",
      "[[   0  980    0]\n",
      " [   0 1135    0]\n",
      " [   0 1032    0]]\n",
      "classification_report : \n",
      "              precision    recall  f1-score   support\n",
      "\n",
      "           0       0.00      0.00      0.00       980\n",
      "           1       0.36      1.00      0.53      1135\n",
      "           2       0.00      0.00      0.00      1032\n",
      "\n",
      "    accuracy                           0.36      3147\n",
      "   macro avg       0.12      0.33      0.18      3147\n",
      "weighted avg       0.13      0.36      0.19      3147\n",
      "\n"
     ]
    },
    {
     "name": "stderr",
     "output_type": "stream",
     "text": [
      "/home/nisarg/.local/lib/python3.8/site-packages/sklearn/metrics/_classification.py:1245: UndefinedMetricWarning: Precision and F-score are ill-defined and being set to 0.0 in labels with no predicted samples. Use `zero_division` parameter to control this behavior.\n",
      "  _warn_prf(average, modifier, msg_start, len(result))\n",
      "/home/nisarg/.local/lib/python3.8/site-packages/sklearn/metrics/_classification.py:1245: UndefinedMetricWarning: Precision and F-score are ill-defined and being set to 0.0 in labels with no predicted samples. Use `zero_division` parameter to control this behavior.\n",
      "  _warn_prf(average, modifier, msg_start, len(result))\n",
      "/home/nisarg/.local/lib/python3.8/site-packages/sklearn/metrics/_classification.py:1245: UndefinedMetricWarning: Precision and F-score are ill-defined and being set to 0.0 in labels with no predicted samples. Use `zero_division` parameter to control this behavior.\n",
      "  _warn_prf(average, modifier, msg_start, len(result))\n"
     ]
    },
    {
     "name": "stdout",
     "output_type": "stream",
     "text": [
      "For\n",
      "C= 0.1\n",
      "Kernel= rbf\n",
      "Gamma= scale\n",
      "\n",
      "Accuracy :  0.9933269780743565\n",
      "confusion_matrix : \n",
      "[[ 976    1    3]\n",
      " [   0 1128    7]\n",
      " [   9    1 1022]]\n",
      "classification_report : \n",
      "              precision    recall  f1-score   support\n",
      "\n",
      "           0       0.99      1.00      0.99       980\n",
      "           1       1.00      0.99      1.00      1135\n",
      "           2       0.99      0.99      0.99      1032\n",
      "\n",
      "    accuracy                           0.99      3147\n",
      "   macro avg       0.99      0.99      0.99      3147\n",
      "weighted avg       0.99      0.99      0.99      3147\n",
      "\n",
      "For\n",
      "C= 0.1\n",
      "Kernel= linear\n",
      "Gamma= auto\n",
      "\n",
      "Accuracy :  0.9809342230695901\n",
      "confusion_matrix : \n",
      "[[ 971    0    9]\n",
      " [   1 1127    7]\n",
      " [  24   19  989]]\n",
      "classification_report : \n",
      "              precision    recall  f1-score   support\n",
      "\n",
      "           0       0.97      0.99      0.98       980\n",
      "           1       0.98      0.99      0.99      1135\n",
      "           2       0.98      0.96      0.97      1032\n",
      "\n",
      "    accuracy                           0.98      3147\n",
      "   macro avg       0.98      0.98      0.98      3147\n",
      "weighted avg       0.98      0.98      0.98      3147\n",
      "\n",
      "For\n",
      "C= 0.1\n",
      "Kernel= linear\n",
      "Gamma= scale\n",
      "\n",
      "Accuracy :  0.9809342230695901\n",
      "confusion_matrix : \n",
      "[[ 971    0    9]\n",
      " [   1 1127    7]\n",
      " [  24   19  989]]\n",
      "classification_report : \n",
      "              precision    recall  f1-score   support\n",
      "\n",
      "           0       0.97      0.99      0.98       980\n",
      "           1       0.98      0.99      0.99      1135\n",
      "           2       0.98      0.96      0.97      1032\n",
      "\n",
      "    accuracy                           0.98      3147\n",
      "   macro avg       0.98      0.98      0.98      3147\n",
      "weighted avg       0.98      0.98      0.98      3147\n",
      "\n",
      "For\n",
      "C= 0.01\n",
      "Kernel= poly\n",
      "Gamma= auto\n",
      "\n",
      "Accuracy :  0.9939625039720369\n",
      "confusion_matrix : \n",
      "[[ 976    2    2]\n",
      " [   0 1131    4]\n",
      " [   8    3 1021]]\n",
      "classification_report : \n",
      "              precision    recall  f1-score   support\n",
      "\n",
      "           0       0.99      1.00      0.99       980\n",
      "           1       1.00      1.00      1.00      1135\n",
      "           2       0.99      0.99      0.99      1032\n",
      "\n",
      "    accuracy                           0.99      3147\n",
      "   macro avg       0.99      0.99      0.99      3147\n",
      "weighted avg       0.99      0.99      0.99      3147\n",
      "\n",
      "For\n",
      "C= 0.01\n",
      "Kernel= poly\n",
      "Gamma= scale\n",
      "\n",
      "Accuracy :  0.9485224022878932\n",
      "confusion_matrix : \n",
      "[[ 934   41    5]\n",
      " [   0 1129    6]\n",
      " [  14   96  922]]\n",
      "classification_report : \n",
      "              precision    recall  f1-score   support\n",
      "\n",
      "           0       0.99      0.95      0.97       980\n",
      "           1       0.89      0.99      0.94      1135\n",
      "           2       0.99      0.89      0.94      1032\n",
      "\n",
      "    accuracy                           0.95      3147\n",
      "   macro avg       0.96      0.95      0.95      3147\n",
      "weighted avg       0.95      0.95      0.95      3147\n",
      "\n",
      "For\n",
      "C= 0.01\n",
      "Kernel= sigmoid\n",
      "Gamma= auto\n",
      "\n",
      "Accuracy :  0.3606609469335875\n",
      "confusion_matrix : \n",
      "[[   0  980    0]\n",
      " [   0 1135    0]\n",
      " [   0 1032    0]]\n",
      "classification_report : \n",
      "              precision    recall  f1-score   support\n",
      "\n",
      "           0       0.00      0.00      0.00       980\n",
      "           1       0.36      1.00      0.53      1135\n",
      "           2       0.00      0.00      0.00      1032\n",
      "\n",
      "    accuracy                           0.36      3147\n",
      "   macro avg       0.12      0.33      0.18      3147\n",
      "weighted avg       0.13      0.36      0.19      3147\n",
      "\n"
     ]
    },
    {
     "name": "stderr",
     "output_type": "stream",
     "text": [
      "/home/nisarg/.local/lib/python3.8/site-packages/sklearn/metrics/_classification.py:1245: UndefinedMetricWarning: Precision and F-score are ill-defined and being set to 0.0 in labels with no predicted samples. Use `zero_division` parameter to control this behavior.\n",
      "  _warn_prf(average, modifier, msg_start, len(result))\n",
      "/home/nisarg/.local/lib/python3.8/site-packages/sklearn/metrics/_classification.py:1245: UndefinedMetricWarning: Precision and F-score are ill-defined and being set to 0.0 in labels with no predicted samples. Use `zero_division` parameter to control this behavior.\n",
      "  _warn_prf(average, modifier, msg_start, len(result))\n",
      "/home/nisarg/.local/lib/python3.8/site-packages/sklearn/metrics/_classification.py:1245: UndefinedMetricWarning: Precision and F-score are ill-defined and being set to 0.0 in labels with no predicted samples. Use `zero_division` parameter to control this behavior.\n",
      "  _warn_prf(average, modifier, msg_start, len(result))\n"
     ]
    },
    {
     "name": "stdout",
     "output_type": "stream",
     "text": [
      "For\n",
      "C= 0.01\n",
      "Kernel= sigmoid\n",
      "Gamma= scale\n",
      "\n",
      "Accuracy :  0.9771210676835081\n",
      "confusion_matrix : \n",
      "[[ 970    1    9]\n",
      " [   0 1125   10]\n",
      " [  27   25  980]]\n",
      "classification_report : \n",
      "              precision    recall  f1-score   support\n",
      "\n",
      "           0       0.97      0.99      0.98       980\n",
      "           1       0.98      0.99      0.98      1135\n",
      "           2       0.98      0.95      0.97      1032\n",
      "\n",
      "    accuracy                           0.98      3147\n",
      "   macro avg       0.98      0.98      0.98      3147\n",
      "weighted avg       0.98      0.98      0.98      3147\n",
      "\n",
      "For\n",
      "C= 0.01\n",
      "Kernel= rbf\n",
      "Gamma= auto\n",
      "\n",
      "Accuracy :  0.3606609469335875\n",
      "confusion_matrix : \n",
      "[[   0  980    0]\n",
      " [   0 1135    0]\n",
      " [   0 1032    0]]\n",
      "classification_report : \n",
      "              precision    recall  f1-score   support\n",
      "\n",
      "           0       0.00      0.00      0.00       980\n",
      "           1       0.36      1.00      0.53      1135\n",
      "           2       0.00      0.00      0.00      1032\n",
      "\n",
      "    accuracy                           0.36      3147\n",
      "   macro avg       0.12      0.33      0.18      3147\n",
      "weighted avg       0.13      0.36      0.19      3147\n",
      "\n"
     ]
    },
    {
     "name": "stderr",
     "output_type": "stream",
     "text": [
      "/home/nisarg/.local/lib/python3.8/site-packages/sklearn/metrics/_classification.py:1245: UndefinedMetricWarning: Precision and F-score are ill-defined and being set to 0.0 in labels with no predicted samples. Use `zero_division` parameter to control this behavior.\n",
      "  _warn_prf(average, modifier, msg_start, len(result))\n",
      "/home/nisarg/.local/lib/python3.8/site-packages/sklearn/metrics/_classification.py:1245: UndefinedMetricWarning: Precision and F-score are ill-defined and being set to 0.0 in labels with no predicted samples. Use `zero_division` parameter to control this behavior.\n",
      "  _warn_prf(average, modifier, msg_start, len(result))\n",
      "/home/nisarg/.local/lib/python3.8/site-packages/sklearn/metrics/_classification.py:1245: UndefinedMetricWarning: Precision and F-score are ill-defined and being set to 0.0 in labels with no predicted samples. Use `zero_division` parameter to control this behavior.\n",
      "  _warn_prf(average, modifier, msg_start, len(result))\n"
     ]
    },
    {
     "name": "stdout",
     "output_type": "stream",
     "text": [
      "For\n",
      "C= 0.01\n",
      "Kernel= rbf\n",
      "Gamma= scale\n",
      "\n",
      "Accuracy :  0.9882427708929139\n",
      "confusion_matrix : \n",
      "[[ 974    1    5]\n",
      " [   0 1125   10]\n",
      " [  15    6 1011]]\n",
      "classification_report : \n",
      "              precision    recall  f1-score   support\n",
      "\n",
      "           0       0.98      0.99      0.99       980\n",
      "           1       0.99      0.99      0.99      1135\n",
      "           2       0.99      0.98      0.98      1032\n",
      "\n",
      "    accuracy                           0.99      3147\n",
      "   macro avg       0.99      0.99      0.99      3147\n",
      "weighted avg       0.99      0.99      0.99      3147\n",
      "\n",
      "For\n",
      "C= 0.01\n",
      "Kernel= linear\n",
      "Gamma= auto\n",
      "\n",
      "Accuracy :  0.9809342230695901\n",
      "confusion_matrix : \n",
      "[[ 971    0    9]\n",
      " [   1 1127    7]\n",
      " [  24   19  989]]\n",
      "classification_report : \n",
      "              precision    recall  f1-score   support\n",
      "\n",
      "           0       0.97      0.99      0.98       980\n",
      "           1       0.98      0.99      0.99      1135\n",
      "           2       0.98      0.96      0.97      1032\n",
      "\n",
      "    accuracy                           0.98      3147\n",
      "   macro avg       0.98      0.98      0.98      3147\n",
      "weighted avg       0.98      0.98      0.98      3147\n",
      "\n",
      "For\n",
      "C= 0.01\n",
      "Kernel= linear\n",
      "Gamma= scale\n",
      "\n",
      "Accuracy :  0.9809342230695901\n",
      "confusion_matrix : \n",
      "[[ 971    0    9]\n",
      " [   1 1127    7]\n",
      " [  24   19  989]]\n",
      "classification_report : \n",
      "              precision    recall  f1-score   support\n",
      "\n",
      "           0       0.97      0.99      0.98       980\n",
      "           1       0.98      0.99      0.99      1135\n",
      "           2       0.98      0.96      0.97      1032\n",
      "\n",
      "    accuracy                           0.98      3147\n",
      "   macro avg       0.98      0.98      0.98      3147\n",
      "weighted avg       0.98      0.98      0.98      3147\n",
      "\n"
     ]
    }
   ],
   "source": [
    "from sklearn.svm import SVC\n",
    "from sklearn.metrics import confusion_matrix\n",
    "from sklearn.metrics import classification_report\n",
    "\n",
    "c_vals = [100, 10 ,3, 0.1, 0.01]\n",
    "kernel_vals = [\"poly\", \"sigmoid\", \"rbf\", \"linear\"]\n",
    "gamma_vals = [\"auto\", \"scale\"]\n",
    "\n",
    "for C in c_vals:\n",
    "    for kernel in kernel_vals:\n",
    "        for gamma in gamma_vals:\n",
    "            \n",
    "            SVCClf = SVC(C=C, kernel = kernel, gamma = gamma)\n",
    "            SVCClf.fit(trainX, trainy)\n",
    "            \n",
    "            predy = SVCClf.predict(testX)\n",
    "            \n",
    "            print(\"For\")\n",
    "            print(\"C=\", C)\n",
    "            print(\"Kernel=\", kernel)\n",
    "            print(\"Gamma=\", gamma)\n",
    "            \n",
    "            true_count = 0\n",
    "            for i in range(len(predy)):\n",
    "                if predy[i] == testy[i]:\n",
    "                    true_count += 1\n",
    "            \n",
    "            print()\n",
    "            print(\"Accuracy : \", true_count/len(predy))\n",
    "            \n",
    "            cm = confusion_matrix(testy, predy)\n",
    "            cr = classification_report(testy, predy)     \n",
    "            \n",
    "            print(\"confusion_matrix : \")\n",
    "            print(cm)\n",
    "            \n",
    "            print(\"classification_report : \")\n",
    "            print(cr)            "
   ]
  },
  {
   "cell_type": "code",
   "execution_count": null,
   "metadata": {},
   "outputs": [],
   "source": []
  }
 ],
 "metadata": {
  "kernelspec": {
   "display_name": "Python 3",
   "language": "python",
   "name": "python3"
  },
  "language_info": {
   "codemirror_mode": {
    "name": "ipython",
    "version": 3
   },
   "file_extension": ".py",
   "mimetype": "text/x-python",
   "name": "python",
   "nbconvert_exporter": "python",
   "pygments_lexer": "ipython3",
   "version": "3.8.5"
  }
 },
 "nbformat": 4,
 "nbformat_minor": 4
}