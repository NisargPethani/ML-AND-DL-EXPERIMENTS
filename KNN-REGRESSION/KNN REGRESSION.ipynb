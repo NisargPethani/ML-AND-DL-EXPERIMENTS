{
 "cells": [
  {
   "cell_type": "markdown",
   "metadata": {
    "id": "nncP5eQd0IXL"
   },
   "source": [
    "# KNN REGRESSION\n",
    "\n",
    "Please find the Diamond Price Prediction Data set https://drive.google.com/drive/folders/1qE1tm3Ke3uotTyv6SUqruI09t-AkcwRK?usp=sharing. \"description.txt\" contains the feature description of data, \"diamonds.csv\" has the data."
   ]
  },
  {
   "cell_type": "code",
   "execution_count": 1,
   "metadata": {},
   "outputs": [],
   "source": [
    "import pandas as pd\n",
    "import numpy as np\n",
    "import matplotlib.pyplot as plt\n",
    "\n",
    "from tqdm import tqdm\n",
    "\n",
    "from sklearn import preprocessing\n",
    "from sklearn.model_selection import train_test_split\n",
    "from sklearn.metrics import r2_score\n",
    "\n",
    "from tabulate import tabulate"
   ]
  },
  {
   "cell_type": "markdown",
   "metadata": {},
   "source": [
    "## Pre-Processing"
   ]
  },
  {
   "cell_type": "code",
   "execution_count": 2,
   "metadata": {
    "id": "EhFbx6v-4SP8"
   },
   "outputs": [],
   "source": [
    "# To read data from diamonds.csv\n",
    "headers = [\"carat\",\t\"cut\",\"color\",\"clarity\",\"depth\",\"table\",\"price\",\"x\",\"y\",\"z\"]\n",
    "data = pd.read_csv('diamonds.csv', na_values='?',    \n",
    "         header=None,  names = headers) \n",
    "data = data.reset_index(drop=True)\n",
    "data = data.iloc[1:]\n",
    "\n",
    "label_encoder = preprocessing.LabelEncoder()\n",
    "\n",
    "data['cut']= label_encoder.fit_transform(data['cut'])\n",
    "data['color']= label_encoder.fit_transform(data['color'])\n",
    "data['clarity']= label_encoder.fit_transform(data['clarity'])"
   ]
  },
  {
   "cell_type": "code",
   "execution_count": 3,
   "metadata": {},
   "outputs": [],
   "source": [
    "def min_max_normalize(X):\n",
    "    min_val = np.min(X, axis=0)\n",
    "    max_val = np.max(X, axis=0)\n",
    "\n",
    "    d = max_val - min_val\n",
    "\n",
    "    X = X - min_val\n",
    "    X = X / d\n",
    "\n",
    "    return X\n",
    "\n",
    "def standardization(X):\n",
    "    mean = np.mean(X, axis=0)\n",
    "\n",
    "    sd = X - mean\n",
    "    sd = np.square(sd)\n",
    "\n",
    "    sd = np.sum(sd, axis=0)\n",
    "    sd = sd/X.shape[0]\n",
    "\n",
    "    X = X - mean\n",
    "    X = X/sd\n",
    "\n",
    "    return X\n",
    "\n",
    "def separte_features_and_outputs(data, drop_list, normalize_type=0):\n",
    "    X = data.drop(drop_list, axis=1)\n",
    "    Y = data['price']\n",
    "\n",
    "    X = X.to_numpy().astype(np.float)\n",
    "    Y = Y.to_numpy().astype(np.float)\n",
    "\n",
    "    if normalize_type == 0:\n",
    "        X = min_max_normalize(X)\n",
    "    elif normalize_type == 1:\n",
    "        X = standardization(X)\n",
    "        \n",
    "    return X, Y"
   ]
  },
  {
   "cell_type": "markdown",
   "metadata": {
    "id": "p64BQ-W3zpkM"
   },
   "source": [
    "## **KNN Regression [Diamond Price Prediction Dataset]**"
   ]
  },
  {
   "cell_type": "markdown",
   "metadata": {
    "id": "pi5z3DDg04cc"
   },
   "source": [
    "### Build a knn regression algorithm [using only python from scratch] to predict the price of diamonds."
   ]
  },
  {
   "cell_type": "code",
   "execution_count": 4,
   "metadata": {},
   "outputs": [],
   "source": [
    "X, Y = separte_features_and_outputs(data, ['price'])\n",
    "X_train, X_test, Y_train, Y_test = train_test_split(X, Y, test_size=0.10)"
   ]
  },
  {
   "cell_type": "code",
   "execution_count": 5,
   "metadata": {
    "id": "8kcAcD2T3Hsh"
   },
   "outputs": [],
   "source": [
    "# code for knn regression\n",
    "def knn_regressor_euclidean_dis(k, X_train, Y_train, X_test):\n",
    "    \n",
    "    Y_pred = []\n",
    "    for ind in tqdm(range(X_test.shape[0])):\n",
    "\n",
    "        dis = X_train - X_test[ind]\n",
    "        dis = np.square(dis)\n",
    "        dis = np.sum(dis, axis=1)\n",
    "        \n",
    "        idx = np.argpartition(dis, k)\n",
    "        \n",
    "        price = 0\n",
    "        for i in range(k):\n",
    "            price = price + Y_train[idx[i]]\n",
    "        \n",
    "        price = price/k\n",
    "        Y_pred.append(price)\n",
    "        \n",
    "    Y_pred = np.array(output)\n",
    "    return Y_pred"
   ]
  },
  {
   "cell_type": "markdown",
   "metadata": {
    "id": "rdhlOuB_0xGr"
   },
   "source": [
    "### Do we need to normalise data? [If so Does it make any difference?].\n"
   ]
  },
  {
   "cell_type": "markdown",
   "metadata": {
    "id": "0i3Q6iXF3IMj"
   },
   "source": [
    "- In data, for different feature there are different ranges.\n",
    "\n",
    "- if one of the feature is in the range of 1000’s\n",
    "- another is in the range of 0.1’s \n",
    "\n",
    "- then, the weigtage first variable would be (most likely) much larger than the weightage the second variable. \n",
    "- Which shows first feature is more important than another.\n",
    "\n",
    "- To avoid this case if we normalize it to fiven range then importnace would be given same"
   ]
  },
  {
   "cell_type": "markdown",
   "metadata": {
    "id": "E5bPcmCj0xCn"
   },
   "source": [
    "### Experiment with different distance measures[Euclidean distance, Manhattan distance, Hamming Distance] to handle categorical attributes."
   ]
  },
  {
   "cell_type": "code",
   "execution_count": 6,
   "metadata": {
    "id": "JVFgXFJM3I0m"
   },
   "outputs": [],
   "source": [
    "# show all the experiments\n",
    "def knn_regressor_euclidean_dis(k, X_train, Y_train, X_test):\n",
    "    \n",
    "    output = []\n",
    "    for ind in tqdm(range(X_test.shape[0])):\n",
    "\n",
    "        dis = X_train - X_test[ind]\n",
    "        dis = np.square(dis)\n",
    "        dis = np.sum(dis, axis=1)\n",
    "        \n",
    "        idx = np.argpartition(dis, k)\n",
    "        \n",
    "        price = 0\n",
    "        for i in range(k):\n",
    "            price = price + Y_train[idx[i]]\n",
    "        \n",
    "        price = price/k\n",
    "        output.append(price)\n",
    "        \n",
    "    output = np.array(output)\n",
    "    return output\n",
    "\n",
    "def knn_regressor_manhattan_dis(k, X_train, Y_train, X_test):\n",
    "    \n",
    "    output = []\n",
    "    for ind in tqdm(range(X_test.shape[0])):\n",
    "\n",
    "        dis = X_train - X_test[ind]\n",
    "        dis = np.absolute(dis)\n",
    "        dis = np.sum(dis, axis=1)\n",
    "        \n",
    "        idx = np.argpartition(dis, k)\n",
    "        \n",
    "        price = 0\n",
    "        for i in range(k):\n",
    "            price = price + Y_train[idx[i]]\n",
    "        \n",
    "        price = price/k\n",
    "        output.append(price)\n",
    "        \n",
    "    output = np.array(output)\n",
    "    return output"
   ]
  },
  {
   "cell_type": "markdown",
   "metadata": {
    "id": "O64G_tqG0w_l"
   },
   "source": [
    "### Report Mean Squared Error(MSE), Mean-Absolute-Error(MAE), R-squared (R2) score in a tabular form."
   ]
  },
  {
   "cell_type": "code",
   "execution_count": 7,
   "metadata": {
    "id": "1WGPbWa-3JY7"
   },
   "outputs": [],
   "source": [
    "# report a table\n",
    "def cal_MSE(Y_pred, Y_true):\n",
    "    diff = Y_pred - Y_true\n",
    "    abs_diff = np.square(diff)\n",
    "\n",
    "    mean_squre_diff = np.average(abs_diff)\n",
    "    return mean_squre_diff\n",
    "\n",
    "def cal_MAE(Y_pred, Y_true):\n",
    "    diff = Y_pred - Y_true\n",
    "    abs_diff = np.absolute(diff)\n",
    "\n",
    "    mean_abs_diff = np.average(abs_diff)\n",
    "    return mean_abs_diff\n",
    "\n",
    "def cal_R2(Y_pred, Y_true):\n",
    "    r2_score_val = r2_score(Y_true, Y_pred)\n",
    "    return r2_score_val"
   ]
  },
  {
   "cell_type": "markdown",
   "metadata": {},
   "source": [
    "### Euclidean distance"
   ]
  },
  {
   "cell_type": "code",
   "execution_count": 8,
   "metadata": {},
   "outputs": [
    {
     "name": "stderr",
     "output_type": "stream",
     "text": [
      "100%|██████████| 5394/5394 [00:08<00:00, 637.70it/s]"
     ]
    },
    {
     "name": "stdout",
     "output_type": "stream",
     "text": [
      "╒══════════════════════════╤═════════════════════╕\n",
      "│ Error Fun                │   Error-value (k=5) │\n",
      "╞══════════════════════════╪═════════════════════╡\n",
      "│ Mean Squared Error(MSE)  │       522753        │\n",
      "├──────────────────────────┼─────────────────────┤\n",
      "│ Mean-Absolute-Error(MAE) │          360.941    │\n",
      "├──────────────────────────┼─────────────────────┤\n",
      "│ R-squared (R2) score     │            0.966569 │\n",
      "╘══════════════════════════╧═════════════════════╛\n"
     ]
    },
    {
     "name": "stderr",
     "output_type": "stream",
     "text": [
      "\n"
     ]
    }
   ],
   "source": [
    "Y_pred = knn_regressor_euclidean_dis(5, X_train, Y_train, X_test)\n",
    "\n",
    "headr = ['Error Fun', 'Error-value (k=5)']\n",
    "data = []\n",
    "\n",
    "data.append([\"Mean Squared Error(MSE)\", cal_MSE(Y_pred, Y_test)])\n",
    "data.append([\"Mean-Absolute-Error(MAE)\", cal_MAE(Y_pred, Y_test)])\n",
    "data.append([\"R-squared (R2) score\", cal_R2(Y_pred, Y_test)])\n",
    "\n",
    "print(tabulate(data, headers=headr, tablefmt=\"fancy_grid\"))\n"
   ]
  },
  {
   "cell_type": "markdown",
   "metadata": {},
   "source": [
    "### Manhattan distance"
   ]
  },
  {
   "cell_type": "code",
   "execution_count": 9,
   "metadata": {},
   "outputs": [
    {
     "name": "stderr",
     "output_type": "stream",
     "text": [
      "100%|██████████| 5394/5394 [00:08<00:00, 663.12it/s]"
     ]
    },
    {
     "name": "stdout",
     "output_type": "stream",
     "text": [
      "╒══════════════════════════╤═════════════════════╕\n",
      "│ Error Fun                │   Error-value (k=5) │\n",
      "╞══════════════════════════╪═════════════════════╡\n",
      "│ Mean Squared Error(MSE)  │       442556        │\n",
      "├──────────────────────────┼─────────────────────┤\n",
      "│ Mean-Absolute-Error(MAE) │          333.796    │\n",
      "├──────────────────────────┼─────────────────────┤\n",
      "│ R-squared (R2) score     │            0.971698 │\n",
      "╘══════════════════════════╧═════════════════════╛\n"
     ]
    },
    {
     "name": "stderr",
     "output_type": "stream",
     "text": [
      "\n"
     ]
    }
   ],
   "source": [
    "Y_pred = knn_regressor_manhattan_dis(5, X_train, Y_train, X_test)\n",
    "\n",
    "headr = ['Error Fun', 'Error-value (k=5)']\n",
    "data = []\n",
    "\n",
    "data.append([\"Mean Squared Error(MSE)\", cal_MSE(Y_pred, Y_test)])\n",
    "data.append([\"Mean-Absolute-Error(MAE)\", cal_MAE(Y_pred, Y_test)])\n",
    "data.append([\"R-squared (R2) score\", cal_R2(Y_pred, Y_test)])\n",
    "\n",
    "print(tabulate(data, headers=headr, tablefmt=\"fancy_grid\"))"
   ]
  },
  {
   "cell_type": "markdown",
   "metadata": {
    "id": "MA2kN7dL0wjE"
   },
   "source": [
    "### Choose different K values (k=2,3,5,7,11,16) and experiment. Plot a graph showing R2 score vs k."
   ]
  },
  {
   "cell_type": "code",
   "execution_count": 10,
   "metadata": {},
   "outputs": [
    {
     "name": "stderr",
     "output_type": "stream",
     "text": [
      "100%|██████████| 5394/5394 [00:07<00:00, 724.58it/s]\n",
      "100%|██████████| 5394/5394 [00:07<00:00, 674.31it/s]\n",
      "100%|██████████| 5394/5394 [00:08<00:00, 662.68it/s]\n",
      "100%|██████████| 5394/5394 [00:08<00:00, 670.38it/s]\n",
      "100%|██████████| 5394/5394 [00:08<00:00, 664.92it/s]\n",
      "100%|██████████| 5394/5394 [00:08<00:00, 634.18it/s]\n",
      "100%|██████████| 5394/5394 [00:08<00:00, 640.42it/s]\n"
     ]
    }
   ],
   "source": [
    "k_val = [2,3,4,5,7,11,16]\n",
    "\n",
    "r2_score_val = []\n",
    "\n",
    "error = []\n",
    "for k in k_val:\n",
    "    Y_pred = knn_regressor_euclidean_dis(k, X_train, Y_train, X_test)\n",
    "    \n",
    "    r2_score_val.append(cal_R2(Y_pred, Y_test))\n",
    "    error.append([k, cal_MAE(Y_pred, Y_test), cal_MSE(Y_pred, Y_test), cal_R2(Y_pred, Y_test)])"
   ]
  },
  {
   "cell_type": "code",
   "execution_count": 11,
   "metadata": {},
   "outputs": [
    {
     "name": "stdout",
     "output_type": "stream",
     "text": [
      "╒═════╤═════════╤════════╤════════════╕\n",
      "│   k │     MAE │    MSE │   R2 Score │\n",
      "╞═════╪═════════╪════════╪════════════╡\n",
      "│   2 │ 370.241 │ 545051 │   0.965143 │\n",
      "├─────┼─────────┼────────┼────────────┤\n",
      "│   3 │ 358.115 │ 509632 │   0.967408 │\n",
      "├─────┼─────────┼────────┼────────────┤\n",
      "│   4 │ 354.018 │ 502057 │   0.967893 │\n",
      "├─────┼─────────┼────────┼────────────┤\n",
      "│   5 │ 360.941 │ 522753 │   0.966569 │\n",
      "├─────┼─────────┼────────┼────────────┤\n",
      "│   7 │ 368.647 │ 556998 │   0.964379 │\n",
      "├─────┼─────────┼────────┼────────────┤\n",
      "│  11 │ 380.754 │ 592337 │   0.962119 │\n",
      "├─────┼─────────┼────────┼────────────┤\n",
      "│  16 │ 403.208 │ 653169 │   0.958229 │\n",
      "╘═════╧═════════╧════════╧════════════╛\n"
     ]
    }
   ],
   "source": [
    "headr = ['k', 'MAE', 'MSE', 'R2 Score']\n",
    "print(tabulate(error, headers=headr, tablefmt=\"fancy_grid\"))"
   ]
  },
  {
   "cell_type": "code",
   "execution_count": 12,
   "metadata": {
    "id": "Z3VSKWrU3KBT"
   },
   "outputs": [
    {
     "data": {
      "text/plain": [
       "Text(0, 0.5, 'R2 score')"
      ]
     },
     "execution_count": 12,
     "metadata": {},
     "output_type": "execute_result"
    },
    {
     "data": {
      "image/png": "[encoded data removed]",
      "text/plain": [
       "<Figure size 432x288 with 1 Axes>"
      ]
     },
     "metadata": {
      "needs_background": "light"
     },
     "output_type": "display_data"
    }
   ],
   "source": [
    "# plot\n",
    "plt.plot(k_val, r2_score_val)\n",
    "\n",
    "plt.xlabel('k') \n",
    "plt.ylabel('R2 score') "
   ]
  },
  {
   "cell_type": "markdown",
   "metadata": {
    "id": "xgkHg7QL1mzy"
   },
   "source": [
    "### Are the R-squared scores the same? Why / Why not? How do we identify the best K? Suggest a computational procedure, with a logical explanation."
   ]
  },
  {
   "cell_type": "markdown",
   "metadata": {
    "id": "XmFoYY0q3Kyk"
   },
   "source": [
    "- Are the R-squared scores the same?\n",
    "    - Ans: No\n",
    "\n",
    "- How to choose best k?\n",
    "    - If no classes is two then choose odd k\n",
    "    - other wise choose k as sqrt(n)"
   ]
  },
  {
   "cell_type": "markdown",
   "metadata": {
    "id": "Psho4dHI1wXb"
   },
   "source": [
    "### Report the performance of scikit-learn’s kNN regression algorithm.  "
   ]
  },
  {
   "cell_type": "code",
   "execution_count": 13,
   "metadata": {
    "id": "XmBOqvrm3Lkf"
   },
   "outputs": [
    {
     "name": "stdout",
     "output_type": "stream",
     "text": [
      "╒═════╤═════════╕\n",
      "│   k │     MAE │\n",
      "╞═════╪═════════╡\n",
      "│   2 │ 370.048 │\n",
      "├─────┼─────────┤\n",
      "│   3 │ 358.132 │\n",
      "├─────┼─────────┤\n",
      "│   4 │ 354.045 │\n",
      "├─────┼─────────┤\n",
      "│   5 │ 360.939 │\n",
      "├─────┼─────────┤\n",
      "│   7 │ 368.659 │\n",
      "├─────┼─────────┤\n",
      "│  11 │ 380.761 │\n",
      "├─────┼─────────┤\n",
      "│  16 │ 403.208 │\n",
      "╘═════╧═════════╛\n"
     ]
    }
   ],
   "source": [
    "# scikit-learn KNN Regressor\n",
    "from sklearn.neighbors import KNeighborsRegressor\n",
    "\n",
    "k_val = [2,3,4,5,7,11,16]\n",
    "data = []\n",
    "\n",
    "r2_squre_scikit = []\n",
    "\n",
    "for k in k_val:\n",
    "    knnreg = KNeighborsRegressor(n_neighbors=k)\n",
    "    knnreg.fit(X_train, Y_train)\n",
    "    \n",
    "    Y_pred = knnreg.predict(X_test)\n",
    "    data.append([k, cal_MAE(Y_pred, Y_test)])\n",
    "    \n",
    "    r2_squre_scikit.append([k, cal_MAE(Y_pred, Y_test), cal_MSE(Y_pred, Y_test), cal_R2(Y_pred, Y_test)])\n",
    "\n",
    "headr = ['k', 'MAE']\n",
    "print(tabulate(data, headers=headr, tablefmt=\"fancy_grid\"))"
   ]
  },
  {
   "cell_type": "markdown",
   "metadata": {
    "id": "R7ZzdSUu2Iez"
   },
   "source": [
    "### Compare it with the algorithm you built. [ you can use complexities, R2 score etc..]"
   ]
  },
  {
   "cell_type": "code",
   "execution_count": 14,
   "metadata": {
    "id": "hmi9rZDF3MNB"
   },
   "outputs": [
    {
     "name": "stdout",
     "output_type": "stream",
     "text": [
      "My KNN Regressor results\n",
      "╒═════╤═════════╤════════╤════════════╕\n",
      "│   k │     MAE │    MSE │   R2 Score │\n",
      "╞═════╪═════════╪════════╪════════════╡\n",
      "│   2 │ 370.241 │ 545051 │   0.965143 │\n",
      "├─────┼─────────┼────────┼────────────┤\n",
      "│   3 │ 358.115 │ 509632 │   0.967408 │\n",
      "├─────┼─────────┼────────┼────────────┤\n",
      "│   4 │ 354.018 │ 502057 │   0.967893 │\n",
      "├─────┼─────────┼────────┼────────────┤\n",
      "│   5 │ 360.941 │ 522753 │   0.966569 │\n",
      "├─────┼─────────┼────────┼────────────┤\n",
      "│   7 │ 368.647 │ 556998 │   0.964379 │\n",
      "├─────┼─────────┼────────┼────────────┤\n",
      "│  11 │ 380.754 │ 592337 │   0.962119 │\n",
      "├─────┼─────────┼────────┼────────────┤\n",
      "│  16 │ 403.208 │ 653169 │   0.958229 │\n",
      "╘═════╧═════════╧════════╧════════════╛\n",
      "\n",
      "\n",
      "scikit-learn KNN Regressor results\n",
      "╒═════╤═════════╤════════╤════════════╕\n",
      "│   k │     MAE │    MSE │   R2 Score │\n",
      "╞═════╪═════════╪════════╪════════════╡\n",
      "│   2 │ 370.048 │ 544854 │   0.965156 │\n",
      "├─────┼─────────┼────────┼────────────┤\n",
      "│   3 │ 358.132 │ 509644 │   0.967407 │\n",
      "├─────┼─────────┼────────┼────────────┤\n",
      "│   4 │ 354.045 │ 502118 │   0.967889 │\n",
      "├─────┼─────────┼────────┼────────────┤\n",
      "│   5 │ 360.939 │ 522750 │   0.966569 │\n",
      "├─────┼─────────┼────────┼────────────┤\n",
      "│   7 │ 368.659 │ 557006 │   0.964379 │\n",
      "├─────┼─────────┼────────┼────────────┤\n",
      "│  11 │ 380.761 │ 592366 │   0.962117 │\n",
      "├─────┼─────────┼────────┼────────────┤\n",
      "│  16 │ 403.208 │ 653171 │   0.958229 │\n",
      "╘═════╧═════════╧════════╧════════════╛\n"
     ]
    }
   ],
   "source": [
    "# Comparison\n",
    "print(\"My KNN Regressor results\")\n",
    "headr = ['k', 'MAE', 'MSE', 'R2 Score']\n",
    "print(tabulate(error, headers=headr, tablefmt=\"fancy_grid\"))\n",
    "\n",
    "print(\"\\n\\nscikit-learn KNN Regressor results\")\n",
    "print(tabulate(r2_squre_scikit, headers=headr, tablefmt=\"fancy_grid\"))"
   ]
  },
  {
   "cell_type": "markdown",
   "metadata": {
    "id": "Xa-vbZfY2OFO"
   },
   "source": [
    "### From the above experiments, what do you think are advantages and disadvantages of the knn regression algorithm?\n"
   ]
  },
  {
   "cell_type": "markdown",
   "metadata": {
    "id": "hDCRj4H93Mu8"
   },
   "source": [
    "- Advantages of KNN\n",
    "    - No Training Period\n",
    "    - Very easy to implement for multi-class problem\n",
    "    - new data can be added seamlessly\n",
    "    - K-NN has no assumptions\n",
    "    - Can be used both for Classification and Regression\n",
    "    - Variety of distance criteria to be choose from\n",
    "        - Euclidean Distance\n",
    "        - Hamming Distance\n",
    "        - Manhattan Distance\n",
    "        - Minkowski Distance\n",
    "    \n",
    "- Dis-advantages of KNN\n",
    "    - Does not work well with large dataset\n",
    "    - Need feature scaling\n",
    "    - Sensitive to noisy data, missing values and outliers\n",
    "    - Does not work well with high dimensions\n",
    "    - K-NN needs homogeneous features\n",
    "    - Imbalanced data causes problems"
   ]
  }
 ],
 "metadata": {
  "colab": {
   "collapsed_sections": [
    "6poNZp96z1gN"
   ],
   "name": "SMAI -Assignment1.ipynb",
   "provenance": []
  },
  "kernelspec": {
   "display_name": "Python 3",
   "language": "python",
   "name": "python3"
  },
  "language_info": {
   "codemirror_mode": {
    "name": "ipython",
    "version": 3
   },
   "file_extension": ".py",
   "mimetype": "text/x-python",
   "name": "python",
   "nbconvert_exporter": "python",
   "pygments_lexer": "ipython3",
   "version": "3.8.5"
  }
 },
 "nbformat": 4,
 "nbformat_minor": 1
}
